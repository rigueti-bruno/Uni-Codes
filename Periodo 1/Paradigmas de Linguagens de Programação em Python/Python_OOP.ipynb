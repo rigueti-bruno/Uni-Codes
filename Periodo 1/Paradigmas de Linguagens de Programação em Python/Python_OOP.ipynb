{
 "cells": [
  {
   "cell_type": "markdown",
   "metadata": {},
   "source": [
    "# Python Orientado a Objetos"
   ]
  },
  {
   "cell_type": "markdown",
   "metadata": {},
   "source": [
    "## Modulo 1: Orientação a Objetos"
   ]
  },
  {
   "cell_type": "markdown",
   "metadata": {},
   "source": [
    "Exemplo - POO no Python:"
   ]
  },
  {
   "cell_type": "code",
   "execution_count": 1,
   "metadata": {},
   "outputs": [],
   "source": [
    "# Definição de uma Classe Pessoa\n",
    "class Pessoa:\n",
    "    def __init__(self,nome,ender):\n",
    "        self.set_nome(nome)\n",
    "        self.set_ender(ender)\n",
    "    # Metodos Locais:\n",
    "    def set_nome(self,nome):\n",
    "        self.nome = nome\n",
    "    def set_ender(self,ender):\n",
    "        self.ender = ender\n",
    "    # Metodos Globais:\n",
    "    def get_nome(self):\n",
    "        return self.nome\n",
    "    def get_ender(self):\n",
    "        return self.ender"
   ]
  },
  {
   "cell_type": "code",
   "execution_count": 2,
   "metadata": {},
   "outputs": [],
   "source": [
    "# Criar Objetos com a Classe\n",
    "pessoa1 = Pessoa(\"Maria\",\"rua 01234\")\n",
    "pessoa2 = Pessoa(\"João\",\"rua 56789\")"
   ]
  },
  {
   "cell_type": "code",
   "execution_count": 3,
   "metadata": {},
   "outputs": [
    {
     "name": "stdout",
     "output_type": "stream",
     "text": [
      "Nome: Maria, Endereço: rua 01234\n",
      "Nome: João, Endereço: rua 56789\n"
     ]
    }
   ],
   "source": [
    "# Imprimir os Atributos - Executar os Metodos:\n",
    "print(f'Nome: {pessoa1.get_nome()}, Endereço: {pessoa1.get_ender()}')\n",
    "print(f'Nome: {pessoa2.get_nome()}, Endereço: {pessoa2.get_ender()}')"
   ]
  },
  {
   "cell_type": "markdown",
   "metadata": {},
   "source": [
    "## Modulo 2: Orientação a Objetos na Linguagem Python"
   ]
  },
  {
   "cell_type": "markdown",
   "metadata": {},
   "source": [
    "### Exemplo de Agregação:"
   ]
  },
  {
   "cell_type": "code",
   "execution_count": 4,
   "metadata": {},
   "outputs": [],
   "source": [
    "# Classe Salário:\n",
    "class Salario:\n",
    "    def __init__(self,base,bonus):\n",
    "        self.base = base\n",
    "        self.bonus = bonus\n",
    "    def salario_anual(self):\n",
    "        return (self.base * 12) + self.bonus"
   ]
  },
  {
   "cell_type": "code",
   "execution_count": 5,
   "metadata": {},
   "outputs": [],
   "source": [
    "# Classe Empregado:\n",
    "class Empregado:\n",
    "    def __init__(self,nome,idade,salario):\n",
    "        self.nome = nome\n",
    "        self.idade = idade\n",
    "        self.salario_agregado = salario #Agregação -> uma instância da Classe Salario é passada como Parâmetro para a Classe Empregado\n",
    "    def salario_total(self):\n",
    "        return self.salario_agregado.salario_anual()"
   ]
  },
  {
   "cell_type": "code",
   "execution_count": 6,
   "metadata": {},
   "outputs": [],
   "source": [
    "# Criando os Objetos:\n",
    "salario = Salario(10000,700)\n",
    "emp = Empregado('Musashi',46,salario)"
   ]
  },
  {
   "cell_type": "code",
   "execution_count": 7,
   "metadata": {},
   "outputs": [
    {
     "name": "stdout",
     "output_type": "stream",
     "text": [
      "O empregado Musashi recebe por ano 120700.\n"
     ]
    }
   ],
   "source": [
    "# Extraindo Valores:\n",
    "print(f'O empregado {emp.nome} recebe por ano {emp.salario_total()}.')"
   ]
  },
  {
   "cell_type": "markdown",
   "metadata": {},
   "source": [
    "### Método de Classe X Método Estático:"
   ]
  },
  {
   "cell_type": "code",
   "execution_count": 10,
   "metadata": {},
   "outputs": [],
   "source": [
    "from datetime import date\n",
    "\n",
    "class Pessoa:\n",
    "    def __init__(self,nome, idade):\n",
    "        self.nome = nome\n",
    "        self.idade = idade\n",
    "    # Um método de classe para criar um objeto Pessoa através do Ano de Nascimento:\n",
    "    @classmethod\n",
    "    def apartirAnoNascimento(cls,nome,ano):\n",
    "        return cls(nome,date.today().year - ano)\n",
    "    \n",
    "    # Método Estático: verificar se é maior de idade:\n",
    "    @staticmethod\n",
    "    def ehMaiorIdade(idade):\n",
    "        return idade >= 18"
   ]
  },
  {
   "cell_type": "code",
   "execution_count": 11,
   "metadata": {},
   "outputs": [
    {
     "name": "stdout",
     "output_type": "stream",
     "text": [
      "26\n",
      "17\n"
     ]
    }
   ],
   "source": [
    "# Criando os objetos:\n",
    "pessoa1 = Pessoa('Maria',26) # criação de uma instância da Classe Pessoa de forma normal/direta\n",
    "print(pessoa1.idade) # Extração da idade do primeiro objeto\n",
    "pessoa2 = Pessoa.apartirAnoNascimento('Ana',2007) # criação de uma instância da Classe Pessoa utilizando o Método de Classe\n",
    "print(pessoa2.idade) # Extração da idade do segundo objeto"
   ]
  },
  {
   "cell_type": "code",
   "execution_count": 12,
   "metadata": {},
   "outputs": [
    {
     "name": "stdout",
     "output_type": "stream",
     "text": [
      "False\n"
     ]
    }
   ],
   "source": [
    "# Utilizando o Método Estático para verificar a Maioridade de um objeto Pessoa qualquer:\n",
    "print(Pessoa.ehMaiorIdade(17))"
   ]
  },
  {
   "cell_type": "code",
   "execution_count": 15,
   "metadata": {},
   "outputs": [
    {
     "name": "stdout",
     "output_type": "stream",
     "text": [
      "True\n",
      "False\n"
     ]
    }
   ],
   "source": [
    "# Verificando a Maioridade dos 2 objetos criados:\n",
    "print(Pessoa.ehMaiorIdade(pessoa1.idade))\n",
    "print(Pessoa.ehMaiorIdade(pessoa2.idade)) # A idade calculada no Método de Classe atribui o resultado ao Atributo Idade"
   ]
  },
  {
   "cell_type": "markdown",
   "metadata": {},
   "source": [
    "### Classes e Objetos"
   ]
  },
  {
   "cell_type": "code",
   "execution_count": 16,
   "metadata": {},
   "outputs": [],
   "source": [
    "# Criação de uma Classe Conta:\n",
    "class Conta:\n",
    "    def __init__(self,numero,cpf,nomeTitular,saldo):\n",
    "        self.numero = numero\n",
    "        self.cpf = cpf\n",
    "        self.nomeTitular = nomeTitular\n",
    "        self.saldo = saldo"
   ]
  },
  {
   "cell_type": "code",
   "execution_count": 18,
   "metadata": {},
   "outputs": [
    {
     "name": "stdout",
     "output_type": "stream",
     "text": [
      "Nome do titular da conta: Joao\n",
      "Número da conta: 1\n",
      "CPF do titular da conta: 1\n",
      "Saldo da conta: 1000\n"
     ]
    }
   ],
   "source": [
    "# Instanciando um objeto da Classe Conta:\n",
    "def main():\n",
    "    c1 = Conta(1,1,'Joao',1000) #Objeto sendo instanciado\n",
    "    print(f'Nome do titular da conta: {c1.nomeTitular}')\n",
    "    print(f'Número da conta: {c1.numero}')\n",
    "    print(f'CPF do titular da conta: {c1.cpf}')\n",
    "    print(f'Saldo da conta: {c1.saldo}')\n",
    "\n",
    "# Exibindo a Instância da Classe:\n",
    "if __name__ == \"__main__\":\n",
    "    main()"
   ]
  },
  {
   "cell_type": "code",
   "execution_count": 19,
   "metadata": {},
   "outputs": [
    {
     "name": "stdout",
     "output_type": "stream",
     "text": [
      "foo\n"
     ]
    }
   ],
   "source": [
    "# Criando uma Classe sem Método Construtor:\n",
    "class A():\n",
    "    def f(self):\n",
    "        print(\"foo\")\n",
    "        \n",
    "def main():\n",
    "    obj_A = A() # objeto sendo instanciado\n",
    "    obj_A.f()\n",
    "    \n",
    "if __name__ == \"__main__\":\n",
    "    main()"
   ]
  }
 ],
 "metadata": {
  "kernelspec": {
   "display_name": "Python 3",
   "language": "python",
   "name": "python3"
  },
  "language_info": {
   "codemirror_mode": {
    "name": "ipython",
    "version": 3
   },
   "file_extension": ".py",
   "mimetype": "text/x-python",
   "name": "python",
   "nbconvert_exporter": "python",
   "pygments_lexer": "ipython3",
   "version": "3.11.8"
  }
 },
 "nbformat": 4,
 "nbformat_minor": 2
}

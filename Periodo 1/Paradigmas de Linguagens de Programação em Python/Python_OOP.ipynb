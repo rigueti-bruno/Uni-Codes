{
 "cells": [
  {
   "cell_type": "markdown",
   "metadata": {},
   "source": [
    "# Python Orientado a Objetos"
   ]
  },
  {
   "cell_type": "markdown",
   "metadata": {},
   "source": [
    "## Modulo 1: Orientação a Objetos"
   ]
  },
  {
   "cell_type": "markdown",
   "metadata": {},
   "source": [
    "Exemplo - POO no Python:"
   ]
  },
  {
   "cell_type": "code",
   "execution_count": 5,
   "metadata": {},
   "outputs": [],
   "source": [
    "# Definição de uma Classe Pessoa\n",
    "class Pessoa:\n",
    "    def __init__(self,nome,ender):\n",
    "        self.set_nome(nome)\n",
    "        self.set_ender(ender)\n",
    "    # Metodos Locais:\n",
    "    def set_nome(self,nome):\n",
    "        self.nome = nome\n",
    "    def set_ender(self,ender):\n",
    "        self.ender = ender\n",
    "    # Metodos Globais:\n",
    "    def get_nome(self):\n",
    "        return self.nome\n",
    "    def get_ender(self):\n",
    "        return self.ender"
   ]
  },
  {
   "cell_type": "code",
   "execution_count": 6,
   "metadata": {},
   "outputs": [],
   "source": [
    "# Criar Objetos com a Classe\n",
    "pessoa1 = Pessoa(\"Maria\",\"rua 01234\")\n",
    "pessoa2 = Pessoa(\"João\",\"rua 56789\")"
   ]
  },
  {
   "cell_type": "code",
   "execution_count": 8,
   "metadata": {},
   "outputs": [
    {
     "name": "stdout",
     "output_type": "stream",
     "text": [
      "Nome: Maria, Endereço: rua 01234\n",
      "Nome: João, Endereço: rua 56789\n"
     ]
    }
   ],
   "source": [
    "# Imprimir os Atributos - Executar os Metodos:\n",
    "print(f'Nome: {pessoa1.get_nome()}, Endereço: {pessoa1.get_ender()}')\n",
    "print(f'Nome: {pessoa2.get_nome()}, Endereço: {pessoa2.get_ender()}')"
   ]
  }
 ],
 "metadata": {
  "kernelspec": {
   "display_name": "Python 3",
   "language": "python",
   "name": "python3"
  },
  "language_info": {
   "codemirror_mode": {
    "name": "ipython",
    "version": 3
   },
   "file_extension": ".py",
   "mimetype": "text/x-python",
   "name": "python",
   "nbconvert_exporter": "python",
   "pygments_lexer": "ipython3",
   "version": "3.11.7"
  }
 },
 "nbformat": 4,
 "nbformat_minor": 2
}

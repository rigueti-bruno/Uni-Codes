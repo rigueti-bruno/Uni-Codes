{
 "cells": [
  {
   "cell_type": "markdown",
   "metadata": {},
   "source": [
    "# Python Orientado a Objetos"
   ]
  },
  {
   "cell_type": "markdown",
   "metadata": {},
   "source": [
    "## Modulo 1: Orientação a Objetos"
   ]
  },
  {
   "cell_type": "markdown",
   "metadata": {},
   "source": [
    "Exemplo - POO no Python:"
   ]
  },
  {
   "cell_type": "code",
   "execution_count": 34,
   "metadata": {},
   "outputs": [],
   "source": [
    "# Definição de uma Classe Pessoa\n",
    "class Pessoa:\n",
    "    def __init__(self,nome,ender):\n",
    "        self.set_nome(nome)\n",
    "        self.set_ender(ender)\n",
    "    # Metodos Locais:\n",
    "    def set_nome(self,nome):\n",
    "        self.nome = nome\n",
    "    def set_ender(self,ender):\n",
    "        self.ender = ender\n",
    "    # Metodos Globais:\n",
    "    def get_nome(self):\n",
    "        return self.nome\n",
    "    def get_ender(self):\n",
    "        return self.ender"
   ]
  },
  {
   "cell_type": "code",
   "execution_count": 35,
   "metadata": {},
   "outputs": [],
   "source": [
    "# Criar Objetos com a Classe\n",
    "pessoa1 = Pessoa(\"Maria\",\"rua 01234\")\n",
    "pessoa2 = Pessoa(\"João\",\"rua 56789\")"
   ]
  },
  {
   "cell_type": "code",
   "execution_count": 36,
   "metadata": {},
   "outputs": [
    {
     "name": "stdout",
     "output_type": "stream",
     "text": [
      "Nome: Maria, Endereço: rua 01234\n",
      "Nome: João, Endereço: rua 56789\n"
     ]
    }
   ],
   "source": [
    "# Imprimir os Atributos - Executar os Metodos:\n",
    "print(f'Nome: {pessoa1.get_nome()}, Endereço: {pessoa1.get_ender()}')\n",
    "print(f'Nome: {pessoa2.get_nome()}, Endereço: {pessoa2.get_ender()}')"
   ]
  },
  {
   "cell_type": "markdown",
   "metadata": {},
   "source": [
    "## Modulo 2: Orientação a Objetos na Linguagem Python"
   ]
  },
  {
   "cell_type": "markdown",
   "metadata": {},
   "source": [
    "### Exemplo de Agregação:"
   ]
  },
  {
   "cell_type": "code",
   "execution_count": 37,
   "metadata": {},
   "outputs": [],
   "source": [
    "# Classe Salário:\n",
    "class Salario:\n",
    "    def __init__(self,base,bonus):\n",
    "        self.base = base\n",
    "        self.bonus = bonus\n",
    "    def salario_anual(self):\n",
    "        return (self.base * 12) + self.bonus"
   ]
  },
  {
   "cell_type": "code",
   "execution_count": 38,
   "metadata": {},
   "outputs": [],
   "source": [
    "# Classe Empregado:\n",
    "class Empregado:\n",
    "    def __init__(self,nome,idade,salario):\n",
    "        self.nome = nome\n",
    "        self.idade = idade\n",
    "        self.salario_agregado = salario #Agregação -> uma instância da Classe Salario é passada como Parâmetro para a Classe Empregado\n",
    "    def salario_total(self):\n",
    "        return self.salario_agregado.salario_anual()"
   ]
  },
  {
   "cell_type": "code",
   "execution_count": 39,
   "metadata": {},
   "outputs": [],
   "source": [
    "# Criando os Objetos:\n",
    "salario = Salario(10000,700)\n",
    "emp = Empregado('Musashi',46,salario)"
   ]
  },
  {
   "cell_type": "code",
   "execution_count": 40,
   "metadata": {},
   "outputs": [
    {
     "name": "stdout",
     "output_type": "stream",
     "text": [
      "O empregado Musashi recebe por ano 120700.\n"
     ]
    }
   ],
   "source": [
    "# Extraindo Valores:\n",
    "print(f'O empregado {emp.nome} recebe por ano {emp.salario_total()}.')"
   ]
  },
  {
   "cell_type": "markdown",
   "metadata": {},
   "source": [
    "### Método de Classe X Método Estático:"
   ]
  },
  {
   "cell_type": "code",
   "execution_count": 41,
   "metadata": {},
   "outputs": [],
   "source": [
    "from datetime import date\n",
    "\n",
    "class Pessoa:\n",
    "    def __init__(self,nome, idade):\n",
    "        self.nome = nome\n",
    "        self.idade = idade\n",
    "    # Um método de classe para criar um objeto Pessoa através do Ano de Nascimento:\n",
    "    @classmethod\n",
    "    def apartirAnoNascimento(cls,nome,ano):\n",
    "        return cls(nome,date.today().year - ano)\n",
    "    \n",
    "    # Método Estático: verificar se é maior de idade:\n",
    "    @staticmethod\n",
    "    def ehMaiorIdade(idade):\n",
    "        return idade >= 18"
   ]
  },
  {
   "cell_type": "code",
   "execution_count": 42,
   "metadata": {},
   "outputs": [
    {
     "name": "stdout",
     "output_type": "stream",
     "text": [
      "26\n",
      "17\n"
     ]
    }
   ],
   "source": [
    "# Criando os objetos:\n",
    "pessoa1 = Pessoa('Maria',26) # criação de uma instância da Classe Pessoa de forma normal/direta\n",
    "print(pessoa1.idade) # Extração da idade do primeiro objeto\n",
    "pessoa2 = Pessoa.apartirAnoNascimento('Ana',2007) # criação de uma instância da Classe Pessoa utilizando o Método de Classe\n",
    "print(pessoa2.idade) # Extração da idade do segundo objeto"
   ]
  },
  {
   "cell_type": "code",
   "execution_count": 43,
   "metadata": {},
   "outputs": [
    {
     "name": "stdout",
     "output_type": "stream",
     "text": [
      "False\n"
     ]
    }
   ],
   "source": [
    "# Utilizando o Método Estático para verificar a Maioridade de um objeto Pessoa qualquer:\n",
    "print(Pessoa.ehMaiorIdade(17))"
   ]
  },
  {
   "cell_type": "code",
   "execution_count": 44,
   "metadata": {},
   "outputs": [
    {
     "name": "stdout",
     "output_type": "stream",
     "text": [
      "True\n",
      "False\n"
     ]
    }
   ],
   "source": [
    "# Verificando a Maioridade dos 2 objetos criados:\n",
    "print(Pessoa.ehMaiorIdade(pessoa1.idade))\n",
    "print(Pessoa.ehMaiorIdade(pessoa2.idade)) # A idade calculada no Método de Classe atribui o resultado ao Atributo Idade"
   ]
  },
  {
   "cell_type": "markdown",
   "metadata": {},
   "source": [
    "### Classes e Objetos"
   ]
  },
  {
   "cell_type": "code",
   "execution_count": 45,
   "metadata": {},
   "outputs": [],
   "source": [
    "# Criação de uma Classe Conta:\n",
    "class Conta:\n",
    "    def __init__(self,numero,cpf,nomeTitular,saldo):\n",
    "        self.numero = numero\n",
    "        self.cpf = cpf\n",
    "        self.nomeTitular = nomeTitular\n",
    "        self.saldo = saldo"
   ]
  },
  {
   "cell_type": "code",
   "execution_count": 46,
   "metadata": {},
   "outputs": [
    {
     "name": "stdout",
     "output_type": "stream",
     "text": [
      "Nome do titular da conta: Joao\n",
      "Número da conta: 1\n",
      "CPF do titular da conta: 1\n",
      "Saldo da conta: 1000\n"
     ]
    }
   ],
   "source": [
    "# Instanciando um objeto da Classe Conta:\n",
    "def main():\n",
    "    c1 = Conta(1,1,'Joao',1000) #Objeto sendo instanciado\n",
    "    print(f'Nome do titular da conta: {c1.nomeTitular}')\n",
    "    print(f'Número da conta: {c1.numero}')\n",
    "    print(f'CPF do titular da conta: {c1.cpf}')\n",
    "    print(f'Saldo da conta: {c1.saldo}')\n",
    "\n",
    "# Exibindo a Instância da Classe:\n",
    "if __name__ == \"__main__\":\n",
    "    main()"
   ]
  },
  {
   "cell_type": "code",
   "execution_count": 47,
   "metadata": {},
   "outputs": [
    {
     "name": "stdout",
     "output_type": "stream",
     "text": [
      "foo\n"
     ]
    }
   ],
   "source": [
    "# Criando uma Classe sem Método Construtor:\n",
    "class A():\n",
    "    def f(self):\n",
    "        print(\"foo\")\n",
    "        \n",
    "def main():\n",
    "    obj_A = A() # objeto sendo instanciado\n",
    "    obj_A.f()\n",
    "    \n",
    "if __name__ == \"__main__\":\n",
    "    main()"
   ]
  },
  {
   "cell_type": "markdown",
   "metadata": {},
   "source": [
    "### Métodos"
   ]
  },
  {
   "cell_type": "code",
   "execution_count": 48,
   "metadata": {},
   "outputs": [],
   "source": [
    "# Exemplo de Classe com um conjunto de métodos para manipular os atributos e o estado do objeto:\n",
    "class Conta:\n",
    "    def __init__(self,numero, cpf,nomeTitular,saldo): # Controi o objeto Conta\n",
    "        self.numero = numero\n",
    "        self.cpf = cpf\n",
    "        self.nomeTitular = nomeTitular\n",
    "        self.saldo = saldo\n",
    "    def depositar(self,valor): # Adiciona valor ao atributo saldo\n",
    "        self.saldo += valor\n",
    "    def sacar(self,valor): # Retira valor do atributo saldo\n",
    "        self.saldo -= valor\n",
    "    def gerar_extrato(self): # Exibe o estado do objeto mostrando os valores de seus atributos numero, cof e saldo\n",
    "        print(f'Numero: {self.numero}\\nCPF: {self.cpf}\\nSaldo: {self.saldo}')"
   ]
  },
  {
   "cell_type": "code",
   "execution_count": 49,
   "metadata": {},
   "outputs": [
    {
     "name": "stdout",
     "output_type": "stream",
     "text": [
      "Numero: 1\n",
      "CPF: 1\n",
      "Saldo: 200\n"
     ]
    }
   ],
   "source": [
    "# Instanciando um novo Objeto com a Classe Conta:\n",
    "def main():\n",
    "    c2 = Conta(1,1,'Joao',0)\n",
    "    c2.depositar(300)\n",
    "    c2.sacar(100)\n",
    "    c2.gerar_extrato()\n",
    "\n",
    "if __name__ == \"__main__\":\n",
    "    main()"
   ]
  },
  {
   "cell_type": "code",
   "execution_count": 50,
   "metadata": {},
   "outputs": [],
   "source": [
    "# Exemplo de Classe com Método com Retorno:\n",
    "class Conta:\n",
    "    def __init__(self,numero,cpf,nomeTitular,saldo):\n",
    "        self.numero = numero\n",
    "        self.cpf = cpf\n",
    "        self.nomeTitular = nomeTitular\n",
    "        self.saldo = saldo\n",
    "    def depositar(self,valor):\n",
    "        self.saldo += valor\n",
    "    def sacar(self,valor):\n",
    "        if self.saldo < valor: # verifica se o saldo corrente da conta é suficiente para realizar o saque\n",
    "            return False # Se não for, o saque não é realizado\n",
    "        else:\n",
    "            self.saldo -= valor # Se o saldo for suficiente, o saque é realizado\n",
    "            return True\n",
    "    def gerar_extrato(self):\n",
    "        print(f'Numero: {self.numero}\\nCPF: {self.cpf}\\nSaldo: {self.saldo}')"
   ]
  },
  {
   "cell_type": "code",
   "execution_count": 51,
   "metadata": {},
   "outputs": [],
   "source": [
    "# Definindo a Instância do Objeto de Classe:\n",
    "def main():\n",
    "    c3 = Conta(1,1,'Joao',0)\n",
    "    c3.depositar(300)\n",
    "    saque = c3.sacar(400)\n",
    "    c3.gerar_extrato()\n",
    "    print(f'O saque foi realizado? {saque}')"
   ]
  },
  {
   "cell_type": "code",
   "execution_count": 52,
   "metadata": {},
   "outputs": [
    {
     "name": "stdout",
     "output_type": "stream",
     "text": [
      "Numero: 1\n",
      "CPF: 1\n",
      "Saldo: 300\n",
      "O saque foi realizado? False\n"
     ]
    }
   ],
   "source": [
    "# Exibindo o Resultado do Instanciamento:\n",
    "if __name__ == \"__main__\":\n",
    "    main()"
   ]
  },
  {
   "cell_type": "code",
   "execution_count": 53,
   "metadata": {},
   "outputs": [],
   "source": [
    "# Exemplo de Referência entre Objetos:\n",
    "class Conta:\n",
    "    def __init__(self,numero,cpf,nomeTitular,saldo):\n",
    "        self.numero = numero\n",
    "        self.cpf = cpf\n",
    "        self.nomeTitular = nomeTitular\n",
    "        self.saldo = saldo\n",
    "    def depositar(self,valor):\n",
    "        self.saldo += valor\n",
    "    def sacar(self,valor):\n",
    "        if self.saldo < valor: # verifica se o saldo corrente da conta é suficiente para realizar o saque\n",
    "            return False # Se não for, o saque não é realizado\n",
    "        else:\n",
    "            self.saldo -= valor # Se o saldo for suficiente, o saque é realizado\n",
    "            return True\n",
    "    def gerar_extrato(self):\n",
    "        print(f'Numero: {self.numero}\\nCPF: {self.cpf}\\nSaldo: {self.saldo}')\n",
    "    def transfereValor(self,contaDestino,valor): # o Parâmetro contaDestino faz referência ao outro objeto referenciado\n",
    "        if self.saldo < valor:\n",
    "            return (\"Não existe saldo suficiente\")\n",
    "        else:\n",
    "            contaDestino.depositar(valor) # executa o método despositar no objeto referenciado\n",
    "            self.saldo -= valor\n",
    "            return (\"Transferência Realizada\")"
   ]
  },
  {
   "cell_type": "code",
   "execution_count": 54,
   "metadata": {},
   "outputs": [
    {
     "name": "stdout",
     "output_type": "stream",
     "text": [
      "500\n",
      "500\n"
     ]
    }
   ],
   "source": [
    "# Instanciando os Objetos e fazendo a referência entre eles:\n",
    "conta1 = Conta(1,123,'Joao',0)\n",
    "conta2 = Conta(3,456,'Maria',0)\n",
    "\n",
    "conta1.depositar(1000)\n",
    "\n",
    "conta1.transfereValor(conta2,500)\n",
    "\n",
    "print(conta1.saldo)\n",
    "print(conta2.saldo)"
   ]
  },
  {
   "cell_type": "markdown",
   "metadata": {},
   "source": [
    "### Associações entre Objetos"
   ]
  },
  {
   "cell_type": "markdown",
   "metadata": {},
   "source": [
    "#### Agregação"
   ]
  },
  {
   "cell_type": "code",
   "execution_count": 55,
   "metadata": {},
   "outputs": [],
   "source": [
    "# Definição de uma Classe Cliente:\n",
    "class Cliente:\n",
    "    def __init__(self,cpf,nome,endereco):\n",
    "        self.cpf = cpf\n",
    "        self.nome = nome\n",
    "        self.endereco = endereco"
   ]
  },
  {
   "cell_type": "code",
   "execution_count": 56,
   "metadata": {},
   "outputs": [],
   "source": [
    "# Definição de uma Classe Conta:\n",
    "class Conta:\n",
    "    def __init__(self,clientes,numero,saldo):\n",
    "        self.clientes = clientes\n",
    "        self.numero = numero\n",
    "        self.saldo = saldo\n",
    "    def depositar(self,valor):\n",
    "        self.saldo += valor\n",
    "    def sacar(self,valor):\n",
    "        if self.saldo < valor:\n",
    "            return False\n",
    "        else:\n",
    "            self.saldo -= valor\n",
    "            return True\n",
    "    def transfereValor(self,contaDestino,valor):\n",
    "        if self.saldo < valor:\n",
    "            return ('Não há saldo suficiente para a transação')\n",
    "        else:\n",
    "            contaDestino.depositar(valor)\n",
    "            return (\"Tranferência realizada com sucesso\")\n",
    "    def gerarsaldo(self):\n",
    "        \n",
    "        print(f'numero: {self.numero}\\nsaldo: {self.saldo}')"
   ]
  },
  {
   "cell_type": "code",
   "execution_count": 57,
   "metadata": {},
   "outputs": [
    {
     "name": "stdout",
     "output_type": "stream",
     "text": [
      "numero: 1\n",
      "saldo: 0\n",
      "numero: 1\n",
      "saldo: 1000\n"
     ]
    }
   ],
   "source": [
    "# Criação dos Clientes e de uma Conta associada a eles de forma conjunta:\n",
    "cliente1 = Cliente(123,'Joao','Rua 1')\n",
    "cliente2 = Cliente(345,'Maria','Rua 2')\n",
    "\n",
    "conta1 = Conta([cliente1,cliente2],1,0) # foi passada uma lista referenciando os clientes associados à conta\n",
    "\n",
    "conta1.gerarsaldo()\n",
    "conta1.depositar(1500)\n",
    "conta1.sacar(500)\n",
    "conta1.gerarsaldo()"
   ]
  },
  {
   "cell_type": "code",
   "execution_count": 58,
   "metadata": {},
   "outputs": [
    {
     "name": "stdout",
     "output_type": "stream",
     "text": [
      "Nome: Joao\n",
      "Endereço: Rua 1\n",
      "Nome: Maria\n",
      "Endereço: Rua 2\n"
     ]
    }
   ],
   "source": [
    "for i in conta1.clientes: # o loop for foi usado para iterar entre os objetos da lista de clientes agregados à conta\n",
    "    print(f'Nome: {i.nome}\\nEndereço: {i.endereco}')"
   ]
  },
  {
   "cell_type": "markdown",
   "metadata": {},
   "source": [
    "#### Composição"
   ]
  },
  {
   "cell_type": "code",
   "execution_count": 59,
   "metadata": {},
   "outputs": [],
   "source": [
    "# Definindo a Calsse Extrato para gerar os extratos da Conta:\n",
    "class Extrato:\n",
    "    def __init__(self):\n",
    "        self.transacoes = []\n",
    "    def extrato(self,numeroconta):\n",
    "        print(f'Extrato: {numeroconta}\\n')\n",
    "        for p in self.transacoes:\n",
    "            print(f\"{p[0]:15s}{p[1]:10.2f} {p[3].strftime('%d/%b/%y')}\")\n",
    "            "
   ]
  },
  {
   "cell_type": "code",
   "execution_count": 60,
   "metadata": {},
   "outputs": [],
   "source": [
    "# Atualizando a Classe Conta:\n",
    "import datetime\n",
    "\n",
    "class Conta:\n",
    "    def __init__(self,clientes,numero,saldo):\n",
    "        self.clientes = clientes\n",
    "        self.numero = numero\n",
    "        self.saldo = saldo\n",
    "        self.data_abertura = datetime.datetime.today()\n",
    "        self.extrato = Extrato() # Composição Conta -> Extrato\n",
    "    def depositar(self,valor):\n",
    "        self.saldo += valor\n",
    "        self.extrato.transacoes.append(['Deposito',valor,'Data',datetime.datetime.today()])\n",
    "    def sacar(self,valor):\n",
    "        if self.saldo < valor:\n",
    "            return False\n",
    "        else:\n",
    "            self.saldo -= valor\n",
    "            self.extrato.transacoes.append(['Saque',valor,'Data',datetime.datetime.today()])\n",
    "            return True\n",
    "    def transfereValor(self,contaDestino,valor):\n",
    "        if self.saldo < valor:\n",
    "            return \"Não existe saldo suficiente\"\n",
    "        else:\n",
    "            contaDestino.depositar(valor)\n",
    "            self.saldo -= valor\n",
    "            self.extrato.transacoes.append(['Transferencia',valor,'Data',datetime.datetime.today()])\n",
    "            return \"Tranferencia realizada\"\n",
    "    def gerarSaldo(self):\n",
    "        print(f'Numero: {self.numero}\\nSaldo: {self.saldo}')"
   ]
  },
  {
   "cell_type": "code",
   "execution_count": 61,
   "metadata": {},
   "outputs": [
    {
     "name": "stdout",
     "output_type": "stream",
     "text": [
      "Extrato: 1\n",
      "\n",
      "Deposito          1000.00 03/Mar/24\n",
      "Saque             1500.00 03/Mar/24\n",
      "Numero: 1\n",
      "Saldo: 1500\n",
      "Extrato: 1\n",
      "\n",
      "Deposito          1000.00 03/Mar/24\n",
      "Saque             1500.00 03/Mar/24\n",
      "Transferencia      350.00 03/Mar/24\n",
      "Numero: 1\n",
      "Saldo: 1150\n",
      "Extrato: 2\n",
      "\n",
      "Deposito           350.00 03/Mar/24\n",
      "Transferencia      100.00 03/Mar/24\n",
      "Numero: 2\n",
      "Saldo: 700\n",
      "Extrato: 1\n",
      "\n",
      "Deposito          1000.00 03/Mar/24\n",
      "Saque             1500.00 03/Mar/24\n",
      "Transferencia      350.00 03/Mar/24\n",
      "Deposito           100.00 03/Mar/24\n",
      "Numero: 1\n",
      "Saldo: 1250\n"
     ]
    }
   ],
   "source": [
    "# Instanciando a Classe Conta:\n",
    "cliente4 = Cliente('123','Joao','Rua X')\n",
    "cliente5 = Cliente('456','Maria','Rua W')\n",
    "\n",
    "conta4 = Conta([cliente1,cliente2],1,2000)\n",
    "\n",
    "conta4.depositar(1000)\n",
    "conta4.sacar(1500)\n",
    "conta4.extrato.extrato(conta4.numero)\n",
    "conta4.gerarSaldo()\n",
    "\n",
    "cliente6 = Cliente('789','Paulo','Rua Z')\n",
    "conta5 = Conta(cliente6,2,450)\n",
    "\n",
    "conta4.transfereValor(conta5,350)\n",
    "conta4.extrato.extrato(conta4.numero)\n",
    "conta4.gerarSaldo()\n",
    "\n",
    "conta5.transfereValor(conta4,100)\n",
    "conta5.extrato.extrato(conta5.numero)\n",
    "conta5.gerarSaldo()\n",
    "conta4.extrato.extrato(conta4.numero)\n",
    "conta4.gerarSaldo()"
   ]
  },
  {
   "cell_type": "markdown",
   "metadata": {},
   "source": [
    "### Encapsulamento"
   ]
  },
  {
   "cell_type": "code",
   "execution_count": 62,
   "metadata": {},
   "outputs": [
    {
     "ename": "AttributeError",
     "evalue": "'Conta' object has no attribute '__saldo'",
     "output_type": "error",
     "traceback": [
      "\u001b[1;31m---------------------------------------------------------------------------\u001b[0m",
      "\u001b[1;31mAttributeError\u001b[0m                            Traceback (most recent call last)",
      "Cell \u001b[1;32mIn[62], line 13\u001b[0m\n\u001b[0;32m     10\u001b[0m     saldo \u001b[38;5;241m=\u001b[39m conta\u001b[38;5;241m.\u001b[39m__saldo\n\u001b[0;32m     12\u001b[0m \u001b[38;5;28;01mif\u001b[39;00m \u001b[38;5;18m__name__\u001b[39m \u001b[38;5;241m==\u001b[39m \u001b[38;5;124m\"\u001b[39m\u001b[38;5;124m__main__\u001b[39m\u001b[38;5;124m\"\u001b[39m:\n\u001b[1;32m---> 13\u001b[0m     \u001b[43mmain\u001b[49m\u001b[43m(\u001b[49m\u001b[43m)\u001b[49m\n",
      "Cell \u001b[1;32mIn[62], line 10\u001b[0m, in \u001b[0;36mmain\u001b[1;34m()\u001b[0m\n\u001b[0;32m      8\u001b[0m \u001b[38;5;28;01mdef\u001b[39;00m \u001b[38;5;21mmain\u001b[39m():\n\u001b[0;32m      9\u001b[0m     conta \u001b[38;5;241m=\u001b[39m Conta(\u001b[38;5;241m1\u001b[39m,\u001b[38;5;241m1000\u001b[39m)\n\u001b[1;32m---> 10\u001b[0m     saldo \u001b[38;5;241m=\u001b[39m \u001b[43mconta\u001b[49m\u001b[38;5;241;43m.\u001b[39;49m\u001b[43m__saldo\u001b[49m\n",
      "\u001b[1;31mAttributeError\u001b[0m: 'Conta' object has no attribute '__saldo'"
     ]
    }
   ],
   "source": [
    "# Classe criada definindo Atributos Privados:\n",
    "class Conta:\n",
    "    def __init__(self,numero,saldo):\n",
    "        self.__numero = numero # atributos definidos como privados\n",
    "        self.__saldo = saldo\n",
    "\n",
    "# Tentativa de acesso direto ao Atributo Privado __saldo da classe Conta:\n",
    "def main():\n",
    "    conta = Conta(1,1000)\n",
    "    saldo = conta.__saldo\n",
    "\n",
    "if __name__ == \"__main__\":\n",
    "    main()"
   ]
  },
  {
   "cell_type": "code",
   "execution_count": null,
   "metadata": {},
   "outputs": [],
   "source": [
    "# Acessando o atributo de forma alternativa:\n",
    "conta = Conta(1,1000)\n",
    "saldo2 = conta._Conta__saldo\n",
    "print(saldo2)"
   ]
  },
  {
   "cell_type": "markdown",
   "metadata": {},
   "source": [
    "#### Uso do @property e do @metodo.setter"
   ]
  },
  {
   "cell_type": "code",
   "execution_count": null,
   "metadata": {},
   "outputs": [],
   "source": [
    "# Exemplo de implementação de uma Classe Conta aplicando os Decorators:\n",
    "class Conta:\n",
    "    def __init__(self,numero):\n",
    "        self.numero = numero\n",
    "        self.__saldo = 0\n",
    "    @property\n",
    "    def saldo(self):\n",
    "        return self.__saldo\n",
    "    @saldo.setter\n",
    "    def saldo(self,saldo):\n",
    "        if saldo < 0:\n",
    "            print('saldo inválido')\n",
    "        else:\n",
    "            self.__saldo = saldo\n",
    "\n",
    "def main():\n",
    "    conta = Conta(1)\n",
    "    conta.saldo = 1000 #usando o @saldo.setter\n",
    "    print(f'Saldo da Conta: {conta.saldo}') #usando o @property\n",
    "\n",
    "if __name__ == '__main__':\n",
    "    main()"
   ]
  },
  {
   "cell_type": "markdown",
   "metadata": {},
   "source": [
    "## Modulo 3: Orientação a Objetos como Herança e Poliformismo"
   ]
  },
  {
   "cell_type": "markdown",
   "metadata": {},
   "source": [
    "### Exemplo de Herança:"
   ]
  },
  {
   "cell_type": "code",
   "execution_count": null,
   "metadata": {},
   "outputs": [],
   "source": [
    "# Definindo a Classe de Referência:\n",
    "class ClasseSomaMultiplica:\n",
    "    def __init__(self,a,b):\n",
    "        self.a = a\n",
    "        self.b = b\n",
    "    def somar(self):\n",
    "        return self.a + self.b\n",
    "    def multiplica(self):\n",
    "        return self.a * self.b"
   ]
  },
  {
   "cell_type": "code",
   "execution_count": null,
   "metadata": {},
   "outputs": [],
   "source": [
    "# Definindo a Classe Filha:\n",
    "class Derivada(ClasseSomaMultiplica):\n",
    "    def subtrair(self):\n",
    "        return self.a - self.b\n",
    "    def dividir(self):\n",
    "        return self.a / self.b"
   ]
  },
  {
   "cell_type": "code",
   "execution_count": null,
   "metadata": {},
   "outputs": [],
   "source": [
    "# Testando a Herança:\n",
    "d = Derivada(10,20)\n",
    "print(f'A soma de 10 e 20 é {d.somar()}.') # o método somar() foi derivado da classe ClasseSomaMultiplica\n",
    "print(issubclass(Derivada,ClasseSomaMultiplica)) # Teste para verificar se a classe Derivada é uma Sublcasse da classe ClasseSomaMultiplica"
   ]
  },
  {
   "cell_type": "markdown",
   "metadata": {},
   "source": [
    "### Exemplo de Sobracarga:"
   ]
  },
  {
   "cell_type": "code",
   "execution_count": null,
   "metadata": {},
   "outputs": [],
   "source": [
    "def somar(x,y,z=0): # z=0 define 0 como o valor padrão para z caso um valor para z não seja informado\n",
    "    return x + y + z\n",
    "print(somar(20,30)) # o parâmetro z não é atribuído - z=0\n",
    "print(somar(20,30,50)) # o parâmetro z é atribuído - z=50"
   ]
  },
  {
   "cell_type": "markdown",
   "metadata": {},
   "source": [
    "### Exemplo de Poliformismo:"
   ]
  },
  {
   "cell_type": "code",
   "execution_count": null,
   "metadata": {},
   "outputs": [],
   "source": [
    "# Classe 1:\n",
    "class Argentina():\n",
    "    def capital(self):\n",
    "        print(\"Buenos Aires é a capital da Argentina.\")\n",
    "    def lingua_oficial(self):\n",
    "        print(\"O espanhol é a língua oficial da Argentina.\")\n",
    "\n",
    "# Classe 2:\n",
    "class Brasil():\n",
    "    def capital(self):\n",
    "        print(\"Brasília é a capital do Brasil.\")\n",
    "    def lingua_oficial(self):\n",
    "        print(\"O português é a língua oficial do Brasil.\")"
   ]
  },
  {
   "cell_type": "code",
   "execution_count": null,
   "metadata": {},
   "outputs": [],
   "source": [
    "# Executando o Poliformismo:\n",
    "obj_arg = Argentina()\n",
    "obj_bra = Brasil()\n",
    "\n",
    "for pais in (obj_arg,obj_bra):\n",
    "    pais.capital()\n",
    "    pais.lingua_oficial()"
   ]
  },
  {
   "cell_type": "markdown",
   "metadata": {},
   "source": [
    "### Exemplo 2 de Poliformismo:"
   ]
  },
  {
   "cell_type": "code",
   "execution_count": null,
   "metadata": {},
   "outputs": [],
   "source": [
    "class Veiculo:\n",
    "    def rodar(self):\n",
    "        print(\"Reduz o consumo de combustivel.\")\n",
    "\n",
    "class VeiculoEletrico(Veiculo):\n",
    "    def rodar(self):\n",
    "        super().rodar()\n",
    "        print(\"Esse veículo utiliza eletricidade.\")\n",
    "\n",
    "veiculo_eletrico = VeiculoEletrico()\n",
    "veiculo_eletrico.rodar()"
   ]
  },
  {
   "cell_type": "markdown",
   "metadata": {},
   "source": [
    "### Exemplo de Exceção:"
   ]
  },
  {
   "cell_type": "code",
   "execution_count": null,
   "metadata": {},
   "outputs": [],
   "source": [
    "x = 10\n",
    "if x > 5:\n",
    "    raise Exception('x não pode ser maior do que 5. O valor de x foi de {}.'.format(x))"
   ]
  },
  {
   "cell_type": "markdown",
   "metadata": {},
   "source": [
    "### Herança:"
   ]
  },
  {
   "cell_type": "code",
   "execution_count": null,
   "metadata": {},
   "outputs": [],
   "source": [
    "# Geração de uma classe Filha da classe Conta criada anteriormente:\n",
    "class ContaEspecial(Conta):\n",
    "    def __init__(self,clientes,numero,saldo,limite):\n",
    "        Conta.__init__(self,clientes,numero,saldo)\n",
    "        self.limite = limite\n",
    "\n",
    "    def sacar(self,valor):\n",
    "        if(self.saldo + self.limite) < valor:\n",
    "            return False\n",
    "        else:\n",
    "            self.saldo -= valor\n",
    "            self.extrato.append([\"Saque\", valor, \"Data\", datetime.datetime.today()])\n",
    "            return True"
   ]
  },
  {
   "cell_type": "code",
   "execution_count": null,
   "metadata": {},
   "outputs": [],
   "source": [
    "# Testando a nova Classe:\n",
    "cliente1 = Cliente(\"123\",\"João\",\"Rua X\")\n",
    "cliente2 = Cliente(\"456\",\"Maria\",\"Rua W\")\n",
    "cliente3 = Cliente(\"789\",\"Joana\",\"Rua H\")\n",
    "\n",
    "conta1 = Conta([cliente1,cliente2],1,2000)\n",
    "conta2 = ContaEspecial([cliente3],3,1000,2000)\n",
    "\n",
    "conta2.depositar(100)\n",
    "conta2.sacar(3200)\n",
    "conta2.extrato.extrato(conta2.numero)"
   ]
  },
  {
   "cell_type": "markdown",
   "metadata": {},
   "source": [
    "### Herança Multipla"
   ]
  },
  {
   "cell_type": "code",
   "execution_count": null,
   "metadata": {},
   "outputs": [],
   "source": [
    "# Criação da Classe Poupança:\n",
    "import datetime\n",
    "\n",
    "class Poupanca:\n",
    "    def __init__(self,taxaremuneracao):\n",
    "        self.taxaremuneracao = taxaremuneracao\n",
    "        self.data_abertura = datetime.datetime.today()\n",
    "    \n",
    "    def remuneracaoConta(self):\n",
    "        self.saldo += self.saldo * self.taxaremuneracao"
   ]
  },
  {
   "cell_type": "code",
   "execution_count": null,
   "metadata": {},
   "outputs": [],
   "source": [
    "# Criando a Classe Conta Remunerada pela Poupança, que será a Classe Filha das Classes Conta e Poupança:\n",
    "class ContaRemuneradaPoupanca(Conta, Poupanca):\n",
    "    def __init__(self,taxaremuneracao,clientes,numero,saldo,txremuneracao):\n",
    "        Conta.__init__(self,clientes,numero,saldo)\n",
    "        Poupanca.__init__(self,taxaremuneracao)\n",
    "        self.txremuneracao = txremuneracao\n",
    "        \n",
    "    def remuneraConta(self):\n",
    "        self.saldo += self.saldo * (self.taxaremuneracao/30)\n",
    "        self.saldo -= self.txremuneracao"
   ]
  },
  {
   "cell_type": "code",
   "execution_count": null,
   "metadata": {},
   "outputs": [],
   "source": [
    "# Instanciação da Classe ContaRemunraPoupanca:\n",
    "cliente1 = Cliente('123','Joao','Rua X')\n",
    "cliente2 = Cliente('456','Maria','Rua W')\n",
    "\n",
    "conta1 = Conta([cliente1,cliente2],1,2000)\n",
    "contapoupanca1 = Poupanca(0.1)\n",
    "\n",
    "contaremunerada1 = ContaRemuneradaPoupanca(0.1,cliente1,5,1000,5)\n",
    "contaremunerada1.remuneracaoConta()\n",
    "contaremunerada1.gerarSaldo()"
   ]
  },
  {
   "cell_type": "markdown",
   "metadata": {},
   "source": [
    "### Implementando Poliformismo"
   ]
  },
  {
   "cell_type": "code",
   "execution_count": 79,
   "metadata": {},
   "outputs": [],
   "source": [
    "# Implementação das Classes de Conta:\n",
    "import datetime\n",
    "class ContaPoupanca:\n",
    "    def __init__(self,taxaremuneracao):\n",
    "        self.taxaremuneracao = taxaremuneracao\n",
    "        self.data_abertura = datetime.datetime.today()\n",
    "                \n",
    "    def remuneracaoConta(self):\n",
    "        self.saldo += self.saldo * self.taxaremuneracao\n",
    "\n",
    "# Tornando a Classe ContaCliente em uma Classe Abstrata:\n",
    "from abc import ABC, abstractmethod\n",
    "class ContaCliente(ABC):\n",
    "    def __init__(self,numero,IOF,IR,valorinvestido,taxarendimento):\n",
    "        self.numero = numero\n",
    "        self.IOF = IOF\n",
    "        self.IR = IR\n",
    "        self.valorinvestido = valorinvestido\n",
    "        self.taxarendimento = taxarendimento\n",
    "    @abstractmethod\n",
    "    def CalculoRendimento(self): #(1)\n",
    "        self.valorinvestido += (self.valorinvestido * self.taxarendimento)\n",
    "        self.valorinvestido = self.valorinvestido - (self.taxarendimento * self.IOF * self.IR)\n",
    "    \n",
    "    def Extrato(self):\n",
    "        print(f'O saldo atual da conta {self.numero} é {self.valorinvestido:10.2f}')\n",
    "        "
   ]
  },
  {
   "cell_type": "code",
   "execution_count": 72,
   "metadata": {},
   "outputs": [],
   "source": [
    "# Implementação das Classes de Contas Derivadas:\n",
    "#from ContaCliente import ContaCliente\n",
    "class ContaComum(ContaCliente):\n",
    "    def __init__(self,numero,IOF,IR,valorinvestido,taxarendimento):\n",
    "        super().__init__(numero,IOF,IR,valorinvestido,taxarendimento)\n",
    "        \n",
    "    def CalculoRendimento(self): #(2)\n",
    "        self.valorinvestido += (self.valorinvestido * self.taxarendimento)"
   ]
  },
  {
   "cell_type": "code",
   "execution_count": 73,
   "metadata": {},
   "outputs": [],
   "source": [
    "#from ContaCliente import ContaCliente\n",
    "class ContaRemunerada(ContaCliente):\n",
    "    def __init__(self,numero,IOF,IR,valorinvestido,taxarendimento):\n",
    "        super().__init__(numero,IOF,IR,valorinvestido,taxarendimento)\n",
    "    \n",
    "    def CalculoRendimento(self): #(3)\n",
    "        self.valorinvestido += (self.valorinvestido * self.taxarendimento)\n",
    "        self.valorinvestido -= self.valorinvestido * self.IOF"
   ]
  },
  {
   "cell_type": "code",
   "execution_count": 74,
   "metadata": {},
   "outputs": [],
   "source": [
    "# Implantando a Classe Banco:\n",
    "class Banco():\n",
    "    def __init__(self,codigo,nome):\n",
    "        self.codigo = codigo\n",
    "        self.nome = nome\n",
    "        self.contas = []\n",
    "        \n",
    "    def adicionaconta(self,contacliente):\n",
    "        self.contas.append(contacliente)\n",
    "    \n",
    "    def calculorendimentmensal(self):\n",
    "        for c in self.contas:\n",
    "            c.CalculoRendimento()\n",
    "    \n",
    "    def imprimesaldocontas(self):\n",
    "        for c in self.contas:\n",
    "            c.Extrato()"
   ]
  },
  {
   "cell_type": "code",
   "execution_count": 83,
   "metadata": {},
   "outputs": [
    {
     "name": "stdout",
     "output_type": "stream",
     "text": [
      "O saldo atual da conta 2 é    2100.00\n",
      "O saldo atual da conta 3 é    2079.00\n"
     ]
    }
   ],
   "source": [
    "# Execuntando os Modulos do Codigo:\n",
    "banco1 = Banco(999,'teste')\n",
    "\n",
    "#contacliente1 = ContaCliente(1,0.01,0.1,1000,0.05)\n",
    "contacomum1 = ContaComum(2,0.01,0.1,2000,0.05)\n",
    "contaremunerada1 = ContaRemunerada(3,0.01,0.1,2000,0.05)\n",
    "\n",
    "#banco1.adicionaconta(contacliente1)\n",
    "banco1.adicionaconta(contacomum1)\n",
    "banco1.adicionaconta(contaremunerada1)\n",
    "\n",
    "banco1.calculorendimentmensal()\n",
    "banco1.imprimesaldocontas()"
   ]
  },
  {
   "cell_type": "markdown",
   "metadata": {},
   "source": [
    "## Modulo 4: Exercícios de Orientação a Objetos em Python"
   ]
  },
  {
   "cell_type": "markdown",
   "metadata": {},
   "source": [
    "##### 1 - Implementar uma Classe Veiculo com os Atributos \"velocidade máxima\" e \"quilômetros percorridos por litro\":"
   ]
  },
  {
   "cell_type": "code",
   "execution_count": 1,
   "metadata": {},
   "outputs": [],
   "source": [
    "class Veiculo:\n",
    "    def __init__(self,maxvel,kmpl):\n",
    "        self.maxvel = maxvel\n",
    "        self.kmpl = kmpl"
   ]
  },
  {
   "cell_type": "code",
   "execution_count": 2,
   "metadata": {},
   "outputs": [
    {
     "name": "stdout",
     "output_type": "stream",
     "text": [
      "nome = fusca\n",
      "velocidade maxima = 180\n",
      "quilometros percorridos por litro = 10\n"
     ]
    }
   ],
   "source": [
    "# Solução do Professor:\n",
    "class Veiculo:\n",
    "    def __init__(self,nome,velocidade_max,quilometro_litro):\n",
    "        self.nome = nome\n",
    "        self.velocidade_max = velocidade_max\n",
    "        self.quilometro_litro = quilometro_litro\n",
    "    \n",
    "    def toStr(self):\n",
    "        print(f'nome = {self.nome}')\n",
    "        print(f'velocidade maxima = {self.velocidade_max}')\n",
    "        print(f'quilometros percorridos por litro = {self.quilometro_litro}')\n",
    "\n",
    "modelo_carro = Veiculo('fusca',180,10)\n",
    "modelo_carro.toStr()"
   ]
  },
  {
   "cell_type": "markdown",
   "metadata": {},
   "source": [
    "##### 2 - Crie uma classe filha Ônibus que herdará todas as variáveis e métodos da classe Veiculo:"
   ]
  },
  {
   "cell_type": "code",
   "execution_count": 4,
   "metadata": {},
   "outputs": [
    {
     "name": "stdout",
     "output_type": "stream",
     "text": [
      "nome = marcopolo\n",
      "velocidade maxima = 200\n",
      "quilometros percorridos por litro = 8\n"
     ]
    }
   ],
   "source": [
    "class Onibus(Veiculo):\n",
    "    def __init__(self,nome,velocidade_max,quilometro_litro):\n",
    "        Veiculo.__init__(self,nome,velocidade_max,quilometro_litro)\n",
    "\n",
    "modelo_onibus = Onibus('marcopolo',200,8)\n",
    "modelo_onibus.toStr()"
   ]
  },
  {
   "cell_type": "code",
   "execution_count": 5,
   "metadata": {},
   "outputs": [
    {
     "name": "stdout",
     "output_type": "stream",
     "text": [
      "nome = Mercedes\n",
      "velocidade maxima = 120\n",
      "quilometros percorridos por litro = 7\n"
     ]
    }
   ],
   "source": [
    "# Solução do professor:\n",
    "class Caminhao(Veiculo):\n",
    "    pass\n",
    "\n",
    "modelo_caminhao = Caminhao(\"Mercedes\",120,7)\n",
    "modelo_caminhao.toStr()"
   ]
  },
  {
   "cell_type": "markdown",
   "metadata": {},
   "source": [
    "##### 3 - Modificar a classe filha Onibus de modo que ela forneça a quantidade de assentos. Além disso, o valor desse parâmetro deve ser 70:"
   ]
  },
  {
   "cell_type": "code",
   "execution_count": 9,
   "metadata": {},
   "outputs": [
    {
     "ename": "TypeError",
     "evalue": "Onibus.__init__() takes 2 positional arguments but 4 were given",
     "output_type": "error",
     "traceback": [
      "\u001b[1;31m---------------------------------------------------------------------------\u001b[0m",
      "\u001b[1;31mTypeError\u001b[0m                                 Traceback (most recent call last)",
      "Cell \u001b[1;32mIn[9], line 12\u001b[0m\n\u001b[0;32m      9\u001b[0m         \u001b[38;5;28mprint\u001b[39m(\u001b[38;5;124mf\u001b[39m\u001b[38;5;124m'\u001b[39m\u001b[38;5;124mquilometros por litro = \u001b[39m\u001b[38;5;132;01m{\u001b[39;00m\u001b[38;5;28mself\u001b[39m\u001b[38;5;241m.\u001b[39mquilometro_litro\u001b[38;5;132;01m}\u001b[39;00m\u001b[38;5;124m'\u001b[39m)\n\u001b[0;32m     10\u001b[0m         \u001b[38;5;28mprint\u001b[39m(\u001b[38;5;124mf\u001b[39m\u001b[38;5;124m'\u001b[39m\u001b[38;5;124mquantidade de assentos = \u001b[39m\u001b[38;5;132;01m{\u001b[39;00m\u001b[38;5;28mself\u001b[39m\u001b[38;5;241m.\u001b[39massentos\u001b[38;5;132;01m}\u001b[39;00m\u001b[38;5;124m'\u001b[39m)\n\u001b[1;32m---> 12\u001b[0m modelo_onibus2 \u001b[38;5;241m=\u001b[39m \u001b[43mOnibus\u001b[49m\u001b[43m(\u001b[49m\u001b[38;5;124;43m'\u001b[39;49m\u001b[38;5;124;43mScania\u001b[39;49m\u001b[38;5;124;43m'\u001b[39;49m\u001b[43m,\u001b[49m\u001b[38;5;241;43m120\u001b[39;49m\u001b[43m,\u001b[49m\u001b[38;5;241;43m8\u001b[39;49m\u001b[43m)\u001b[49m\n\u001b[0;32m     13\u001b[0m modelo_onibus2\u001b[38;5;241m.\u001b[39mtoStr()\n",
      "\u001b[1;31mTypeError\u001b[0m: Onibus.__init__() takes 2 positional arguments but 4 were given"
     ]
    }
   ],
   "source": [
    "class Onibus(Veiculo):\n",
    "    def __init__(self,assento):\n",
    "        #Veiculo.__init__(self,nome,velocidade_max,quilometro_litro)\n",
    "        self.assento = 70\n",
    "    \n",
    "    def toStr(self):\n",
    "        print(f'nome = {self.nome}')\n",
    "        print(f'velocidade maxima = {self.velocidade_max}')\n",
    "        print(f'quilometros por litro = {self.quilometro_litro}')\n",
    "        print(f'quantidade de assentos = {self.assentos}')\n",
    "\n",
    "modelo_onibus2 = Onibus('Scania',120,8)\n",
    "modelo_onibus2.toStr()"
   ]
  },
  {
   "cell_type": "code",
   "execution_count": 10,
   "metadata": {},
   "outputs": [
    {
     "name": "stdout",
     "output_type": "stream",
     "text": [
      "nome = Scania\n",
      "velocidade maxima = 120\n",
      "quilometros percorridos por litro = 8\n",
      "A capacidade máxima de assentos é 70\n"
     ]
    }
   ],
   "source": [
    "# Solução do Professor:\n",
    "class Veiculo:\n",
    "    def __init__(self,nome,velocidade_max,quilometro_litro):\n",
    "        self.nome = nome\n",
    "        self.velocidade_max = velocidade_max\n",
    "        self.quilometro_litro = quilometro_litro\n",
    "    \n",
    "    def capacidade_assentos(self,capacidade):\n",
    "        print(f'A capacidade máxima de assentos é {capacidade}')\n",
    "    \n",
    "    def toStr(self):\n",
    "        print(f'nome = {self.nome}')\n",
    "        print(f'velocidade maxima = {self.velocidade_max}')\n",
    "        print(f'quilometros percorridos por litro = {self.quilometro_litro}')\n",
    "        \n",
    "class Onibus(Veiculo):\n",
    "    def capacidade_assentos(self, capacidade=70):\n",
    "        return super().capacidade_assentos(capacidade=70)\n",
    "\n",
    "onibus_escolar = Onibus('Scania',120,8)\n",
    "onibus_escolar.toStr()\n",
    "onibus_escolar.capacidade_assentos()"
   ]
  }
 ],
 "metadata": {
  "kernelspec": {
   "display_name": "Python 3",
   "language": "python",
   "name": "python3"
  },
  "language_info": {
   "codemirror_mode": {
    "name": "ipython",
    "version": 3
   },
   "file_extension": ".py",
   "mimetype": "text/x-python",
   "name": "python",
   "nbconvert_exporter": "python",
   "pygments_lexer": "ipython3",
   "version": "3.11.8"
  }
 },
 "nbformat": 4,
 "nbformat_minor": 2
}

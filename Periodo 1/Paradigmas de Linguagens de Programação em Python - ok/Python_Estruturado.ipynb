{
 "cells": [
  {
   "cell_type": "markdown",
   "metadata": {},
   "source": [
    "# Python Estruturado"
   ]
  },
  {
   "cell_type": "markdown",
   "metadata": {},
   "source": [
    "## Modulo 1: Estruturas de Decisão e Repetição em Python"
   ]
  },
  {
   "cell_type": "markdown",
   "metadata": {},
   "source": [
    "Ex1.: Implementar uma aplicação que receba 2 números e identifique qual é o maior deles:"
   ]
  },
  {
   "cell_type": "code",
   "execution_count": null,
   "metadata": {},
   "outputs": [],
   "source": [
    "# Solução 1:\n",
    "\n",
    "def maior(a,b):\n",
    "    if a > b:\n",
    "        return a\n",
    "    else:\n",
    "        return b\n",
    "    \n",
    "x = maior(10,6)\n",
    "print(x)\n",
    "\n",
    "y = maior(2,20)\n",
    "print(y)"
   ]
  },
  {
   "cell_type": "code",
   "execution_count": null,
   "metadata": {},
   "outputs": [],
   "source": [
    "# Solução 2:\n",
    "\n",
    "a = 10\n",
    "b = 20\n",
    "\n",
    "if a > b:\n",
    "    maior = a\n",
    "else:\n",
    "    maior = b\n",
    "\n",
    "print(f'O maior número é : {maior}')"
   ]
  },
  {
   "cell_type": "code",
   "execution_count": null,
   "metadata": {},
   "outputs": [],
   "source": [
    "# Solução 3:\n",
    "\n",
    "a = 30\n",
    "b = 40\n",
    "\n",
    "maior = a\n",
    "\n",
    "if b > maior:\n",
    "    maior = b\n",
    "\n",
    "print(f'O maior número é: {maior}')"
   ]
  },
  {
   "cell_type": "markdown",
   "metadata": {},
   "source": [
    "Ex2: Implementar uma solução em Python que verifique se um número é par ou ímpar:"
   ]
  },
  {
   "cell_type": "code",
   "execution_count": null,
   "metadata": {},
   "outputs": [],
   "source": [
    "# Solução 1:\n",
    "\n",
    "def parimp(a):\n",
    "    if a % 2 == 0:\n",
    "        return 'O número é Par.'\n",
    "    else:\n",
    "        return 'O número é Ímpar.'\n",
    "\n",
    "x = parimp(13)\n",
    "print(x)\n",
    "\n",
    "y = parimp(8)\n",
    "print(y)"
   ]
  },
  {
   "cell_type": "code",
   "execution_count": null,
   "metadata": {},
   "outputs": [],
   "source": [
    "# Solução 2:\n",
    "\n",
    "numero = 46\n",
    "\n",
    "if numero % 2 == 0:\n",
    "    situacao = 'O número é par'\n",
    "else:\n",
    "    situacao = 'O número é ímpar'\n",
    "\n",
    "print(situacao)"
   ]
  },
  {
   "cell_type": "markdown",
   "metadata": {},
   "source": [
    "Ex3: Implementar uma solução em Python que resolva a seguinte questão:\n",
    " - Se a nota for maior ou igual a 7, o estudante foi aprovado\n",
    " - Se a nota for menor que 7 e maior ou igual a 5, o estudante está em recuperação\n",
    " - Se a nota for menor que 5, o estudante está reprovado"
   ]
  },
  {
   "cell_type": "code",
   "execution_count": null,
   "metadata": {},
   "outputs": [],
   "source": [
    "# Solução 1:\n",
    "\n",
    "def aprov(nota):\n",
    "    if nota >= 7:\n",
    "        return 'O estudante foi aprovado'\n",
    "    elif nota < 7 and nota >= 5:\n",
    "        return 'O estudante está em recuperação'\n",
    "    else:\n",
    "        return 'O estudante está reprovado'\n",
    "    \n",
    "a = aprov(3)\n",
    "print(a)\n",
    "\n",
    "b = aprov(6)\n",
    "print(b)\n",
    "\n",
    "c = aprov(8)\n",
    "print(c)"
   ]
  },
  {
   "cell_type": "code",
   "execution_count": null,
   "metadata": {},
   "outputs": [],
   "source": [
    "# Solução 2:\n",
    "\n",
    "media = 8.5\n",
    "\n",
    "if media >= 7.0:\n",
    "    situacao = 'aprovado'\n",
    "elif media >= 5.0:\n",
    "    situacao = 'em recuperação'\n",
    "else:\n",
    "    situacao = 'reprovado'\n",
    "\n",
    "print(f'O estudante está: {situacao}')"
   ]
  },
  {
   "cell_type": "markdown",
   "metadata": {},
   "source": [
    "Ex4: Implementar uma solução em Python que resolva a seguinte questão:\n",
    "- Calcular o valor de uma compra, sendo que o preço unitário é R$10,00\n",
    "- Se for feita uma compra de até 10 unidades, não há descontos\n",
    "- Para compras entre 11 e 20 unidades é dado um desconto de 10%\n",
    "- Acima de 20 unidades, é dado um desconto de 20%"
   ]
  },
  {
   "cell_type": "code",
   "execution_count": null,
   "metadata": {},
   "outputs": [],
   "source": [
    "# Solução 1:\n",
    "\n",
    "def compra(quant):\n",
    "    prec = 10\n",
    "    if quant > 20:\n",
    "        prec *= 1 - 0.2\n",
    "    elif quant >= 11:\n",
    "        prec *= 1 - 0.1\n",
    "    \n",
    "    return quant * prec\n",
    "\n",
    "x = compra(9)\n",
    "print(x)\n",
    "\n",
    "y = compra(13)\n",
    "print(y)\n",
    "\n",
    "z = compra(30)\n",
    "print(z)"
   ]
  },
  {
   "cell_type": "code",
   "execution_count": null,
   "metadata": {},
   "outputs": [],
   "source": [
    "# Solução 2:\n",
    "\n",
    "preco = 10\n",
    "desc10 = 0.1\n",
    "desc20 = 0.2\n",
    "quantidade = eval(input('Digite a quantidade a ser comprada: '))\n",
    "\n",
    "if quantidade <= 10:\n",
    "    valor = preco * quantidade\n",
    "elif quantidade <= 20:\n",
    "    valor = preco * quantidade * (1 - desc10)\n",
    "else:\n",
    "    valor = preco * quantidade * (1 - desc20)\n",
    "    \n",
    "print(f'O valor final da compra é: {valor}')"
   ]
  },
  {
   "cell_type": "markdown",
   "metadata": {},
   "source": [
    "Ex5: Implementar uma solução em Python que some todos os números pares de uma lista"
   ]
  },
  {
   "cell_type": "markdown",
   "metadata": {},
   "source": [
    "Minha Solução:"
   ]
  },
  {
   "cell_type": "code",
   "execution_count": null,
   "metadata": {},
   "outputs": [],
   "source": [
    "def sumPar(lista):\n",
    "    soma = 0\n",
    "    for i in lista:\n",
    "        if i % 2 == 0:\n",
    "            soma += i\n",
    "    return soma\n",
    "\n",
    "x = [10,2,5,7,6,3]\n",
    "y = sumPar(x)\n",
    "print(f'A soma dos números pares é igual a {y}')\n",
    "\n",
    "a = [2,5,9,4]\n",
    "b = [4,8,7,2]\n",
    "c = [1,56,7,8,9,2,8,22]\n",
    "print(f'A soma dos números pares é igual a {sumPar(a)}')\n",
    "print(f'A soma dos números pares é igual a {sumPar(b)}')\n",
    "print(f'A soma dos números pares é igual a {sumPar(c)}')"
   ]
  },
  {
   "cell_type": "markdown",
   "metadata": {},
   "source": [
    "Solução Proposta 1:"
   ]
  },
  {
   "cell_type": "code",
   "execution_count": null,
   "metadata": {},
   "outputs": [],
   "source": [
    "lista = [10,2,5,7,6,3]\n",
    "n = len(lista)\n",
    "soma = 0\n",
    "for i in range(n):\n",
    "    if lista[i] % 2 == 0:\n",
    "        soma = soma + lista[i]\n",
    "print(f'O somatório dos elementos pares da lista é: {soma}')"
   ]
  },
  {
   "cell_type": "markdown",
   "metadata": {},
   "source": [
    "Solução Proposta 2:"
   ]
  },
  {
   "cell_type": "code",
   "execution_count": null,
   "metadata": {},
   "outputs": [],
   "source": [
    "lista = [10,2,5,7,6,3]\n",
    "soma = 0\n",
    "for num in lista:\n",
    "    if num % 2 == 0:\n",
    "        soma += num\n",
    "print(f'O somatório dos elementos pares da lista é: {soma}')"
   ]
  },
  {
   "cell_type": "markdown",
   "metadata": {},
   "source": [
    "### Estruturas de Decisão"
   ]
  },
  {
   "cell_type": "code",
   "execution_count": null,
   "metadata": {},
   "outputs": [],
   "source": [
    "# Exemplo de if-elif-else:\n",
    "idade = eval(input('Informe a idade da criança: \\n'))\n",
    "\n",
    "if idade < 5:\n",
    "    print('A criança deve ser vacinada contra a gripe.')\n",
    "    print('Procure o posto de saúde mais próximo.')\n",
    "elif idade == 5:\n",
    "    print('A vacina estará disponível em breve.')\n",
    "    print('Aguarde as próximas informações.')\n",
    "else:\n",
    "    print('A vacinação só ocorrerá daqui a 3 meses.')\n",
    "    print('Informe-se novamente neste prazo')\n",
    "\n",
    "print('Cuide da saúde sempre. Até a próxima!')"
   ]
  },
  {
   "cell_type": "code",
   "execution_count": null,
   "metadata": {},
   "outputs": [],
   "source": [
    "# Minha versão\n",
    "\n",
    "def vacin(idade):\n",
    "    if idade < 5:\n",
    "        print('A criança deve ser vacinada contra a gripe.')\n",
    "        print('Procure o posto de saúde mais próximo.')\n",
    "        print('Cuide da saúde sempre. Até a próxima!\\n')\n",
    "    elif idade == 5:\n",
    "        print('A vacina estará disponível em breve.')\n",
    "        print('Aguarde as próximas informações.')\n",
    "        print('Cuide da saúde sempre. Até a próxima!\\n')\n",
    "    else:\n",
    "        print('A vacinação só ocorrerá daqui a 3 meses.')\n",
    "        print('Informe-se novamente neste prazo')\n",
    "        print('Cuide da saúde sempre. Até a próxima!\\n')\n",
    "\n",
    "vacin(3)\n",
    "vacin(5)\n",
    "vacin(7)"
   ]
  },
  {
   "cell_type": "markdown",
   "metadata": {},
   "source": [
    "### Listas do Tipo range()"
   ]
  },
  {
   "cell_type": "code",
   "execution_count": null,
   "metadata": {},
   "outputs": [],
   "source": [
    "# Simples:\n",
    "a = []\n",
    "for i in range(3):\n",
    "    a.append(i)\n",
    "print(a)"
   ]
  },
  {
   "cell_type": "code",
   "execution_count": null,
   "metadata": {},
   "outputs": [],
   "source": [
    "# Não iniciado em 0:\n",
    "b = []\n",
    "for i in range(2,7):\n",
    "    b.append(i)\n",
    "print(b)"
   ]
  },
  {
   "cell_type": "code",
   "execution_count": null,
   "metadata": {},
   "outputs": [],
   "source": [
    "# Indicando início, fim e passo:\n",
    "c = []\n",
    "for i in range(2,9,3):\n",
    "    c.append(i)\n",
    "print(c)"
   ]
  },
  {
   "cell_type": "markdown",
   "metadata": {},
   "source": [
    "### Estrutura for"
   ]
  },
  {
   "cell_type": "code",
   "execution_count": null,
   "metadata": {},
   "outputs": [],
   "source": [
    "# Exemplo:\n",
    "for i in range(2,9,3):\n",
    "    print(i)"
   ]
  },
  {
   "cell_type": "code",
   "execution_count": null,
   "metadata": {},
   "outputs": [],
   "source": [
    "# Minha versão:\n",
    "def pntnum(seq):\n",
    "    for i in range(seq):\n",
    "        print(i)\n",
    "\n",
    "pntnum(10)\n",
    "pntnum(9)\n",
    "pntnum(8)"
   ]
  },
  {
   "cell_type": "markdown",
   "metadata": {},
   "source": [
    "### Laço For com string"
   ]
  },
  {
   "cell_type": "code",
   "execution_count": null,
   "metadata": {},
   "outputs": [],
   "source": [
    "# Soletrando um nome:\n",
    "nome = input('Entre com seu nome: \\n')\n",
    "\n",
    "for letra in nome:\n",
    "    print(letra)"
   ]
  },
  {
   "cell_type": "markdown",
   "metadata": {},
   "source": [
    "### Laço For com qualquer sequência"
   ]
  },
  {
   "cell_type": "code",
   "execution_count": null,
   "metadata": {},
   "outputs": [],
   "source": [
    "nomes = ['Laura','Lis','Guilherme','Enzo','Arthur']\n",
    "\n",
    "for nome in nomes:\n",
    "    print(nome)"
   ]
  },
  {
   "cell_type": "markdown",
   "metadata": {},
   "source": [
    "### Laço While"
   ]
  },
  {
   "cell_type": "code",
   "execution_count": null,
   "metadata": {},
   "outputs": [],
   "source": [
    "# Executar a Instrução até que 'sair seja digitado:\n",
    "palavra = input('Entre com uma palavra: \\n')\n",
    "while palavra != 'sair':\n",
    "    print(palavra)\n",
    "    palavra = input('Digite sair para encerrar o laço: \\n')\n",
    "print('Você digitou sair e agora está fora do laço.')"
   ]
  },
  {
   "cell_type": "markdown",
   "metadata": {},
   "source": [
    "### Instrução Break"
   ]
  },
  {
   "cell_type": "code",
   "execution_count": null,
   "metadata": {},
   "outputs": [],
   "source": [
    "while True:\n",
    "    palavra = input('Entre com uma palavra: \\n')\n",
    "    print(palavra)\n",
    "    if palavra == 'sair':\n",
    "        break\n",
    "print('Você digitou sair e agora está fora do laço.')"
   ]
  },
  {
   "cell_type": "code",
   "execution_count": null,
   "metadata": {},
   "outputs": [],
   "source": [
    "#Laços Aninhados:\n",
    "while True:\n",
    "    print('Você está no primeiro laço.')\n",
    "    opcao1 = input('Deseja sair dele? Digite SIM para isso. \\n')\n",
    "    if opcao1 == 'SIM':\n",
    "        break # este é o breal do primeiro laço\n",
    "    else:\n",
    "        while True:\n",
    "            print('Você está no segundo laço.')\n",
    "            opcao2 = input('Deseja sair dele? Digite SIM para isso. \\n')\n",
    "            if opcao2 == 'SIM':\n",
    "                break # este é o break do segundo laço\n",
    "        print('Você saiu do segundo laço.')\n",
    "print('Você saiu do primeiro laço.')"
   ]
  },
  {
   "cell_type": "markdown",
   "metadata": {},
   "source": [
    "### Instrução Continue"
   ]
  },
  {
   "cell_type": "code",
   "execution_count": null,
   "metadata": {},
   "outputs": [],
   "source": [
    "for num in range(1,11):\n",
    "    if num == 5:\n",
    "        continue\n",
    "    else:\n",
    "        print(num)\n",
    "print('Laço encerrado.')"
   ]
  },
  {
   "cell_type": "code",
   "execution_count": null,
   "metadata": {},
   "outputs": [],
   "source": [
    "# Com break no lugar de continue:\n",
    "for num in range(1,11):\n",
    "    if num == 5:\n",
    "        break\n",
    "    else:\n",
    "        print(num)\n",
    "print('Laço encerrado.')"
   ]
  },
  {
   "cell_type": "markdown",
   "metadata": {},
   "source": [
    "### Instrução Pass"
   ]
  },
  {
   "cell_type": "code",
   "execution_count": null,
   "metadata": {},
   "outputs": [],
   "source": [
    "# Impressão apenas dos números ímpares:\n",
    "for num in range(1,11):\n",
    "    if num % 2 == 0:\n",
    "        pass\n",
    "    else:\n",
    "        print(num)\n",
    "print('Laço encerrado.')"
   ]
  },
  {
   "cell_type": "code",
   "execution_count": null,
   "metadata": {},
   "outputs": [],
   "source": [
    "# Impressão apenas dos números pares:\n",
    "for num in range(1,11):\n",
    "    if num % 2 != 0:\n",
    "        pass\n",
    "    else:\n",
    "        print(num)\n",
    "print('Laço encerrado.')"
   ]
  },
  {
   "cell_type": "markdown",
   "metadata": {},
   "source": [
    "## Modulo 2: Conceitos de Subprogramas e sua utilização em Python"
   ]
  },
  {
   "cell_type": "markdown",
   "metadata": {},
   "source": [
    "Ex1: Implementar uma solução em Python que retorne o menor elemento de uma lista:"
   ]
  },
  {
   "cell_type": "code",
   "execution_count": null,
   "metadata": {},
   "outputs": [],
   "source": [
    "# Minha Solução:\n",
    "def menor(lista):\n",
    "    lista.sort()\n",
    "    return lista[0]\n",
    "\n",
    "x = [4,3,-1,2]\n",
    "print(menor(x))"
   ]
  },
  {
   "cell_type": "code",
   "execution_count": null,
   "metadata": {},
   "outputs": [],
   "source": [
    "# Solução do Professor:\n",
    "def encontrar_minimo(lista):\n",
    "    minimo = lista[0]\n",
    "    for elem in lista:\n",
    "        if elem < minimo:\n",
    "            minimo = elem\n",
    "    return minimo\n",
    "\n",
    "lista_teste = [4,3,-1,2]\n",
    "menor = encontrar_minimo(lista_teste)\n",
    "print('O menor elemento da lista é: [{}]'.format(menor))"
   ]
  },
  {
   "cell_type": "markdown",
   "metadata": {},
   "source": [
    "Ex2: Implementar uma solução em Python que retorne a soma de todos os elementos pares de uma lista:"
   ]
  },
  {
   "cell_type": "code",
   "execution_count": null,
   "metadata": {},
   "outputs": [],
   "source": [
    "# Minha Solução:\n",
    "def sum_pares(lista):\n",
    "    soma = 0\n",
    "    for i in lista:\n",
    "        if i % 2 == 0:\n",
    "            soma += i\n",
    "    return soma\n",
    "\n",
    "x = [1,2,3,4,5,6]\n",
    "print(f'Soma dos Elementos Pares: {sum_pares(x)}')"
   ]
  },
  {
   "cell_type": "code",
   "execution_count": null,
   "metadata": {},
   "outputs": [],
   "source": [
    "# Solução do Professor:\n",
    "def ehPar(n):\n",
    "    r = n % 2 == 0\n",
    "    return r\n",
    "\n",
    "def somar_par(lst):\n",
    "    soma = 0\n",
    "    for num in lst:\n",
    "        if ehPar(num):\n",
    "            soma = soma + num\n",
    "    return soma\n",
    "\n",
    "lista = [10,2,5,7,6,3]\n",
    "soma = somar_par(lista)\n",
    "print(f'O somatório dos elementos pares da lista é: {soma}')"
   ]
  },
  {
   "cell_type": "markdown",
   "metadata": {},
   "source": [
    "Ex3: Implementar uma solução em Python que calcule o fatorial de um número:"
   ]
  },
  {
   "cell_type": "code",
   "execution_count": null,
   "metadata": {},
   "outputs": [],
   "source": [
    "# Minha Solução:\n",
    "def fat_num(num):\n",
    "    fat = 1\n",
    "    while num > 0:\n",
    "        fat *= num\n",
    "        num -= 1\n",
    "    return fat\n",
    "\n",
    "x = 3\n",
    "print(f'O fatorial de {x} é: {fat_num(x)}')\n",
    "print(f'O fatorial de {6} é: {fat_num(6)}')\n",
    "print(f'O fatorial de {4} é: {fat_num(4)}')\n",
    "print(f'O fatorial de {9} é: {fat_num(9)}')"
   ]
  },
  {
   "cell_type": "code",
   "execution_count": null,
   "metadata": {},
   "outputs": [],
   "source": [
    "# Solução 1:\n",
    "def fatorial_iterativo(n):\n",
    "    f = 1\n",
    "    for i in range(1,n+1):\n",
    "        f = f * i\n",
    "    return f\n",
    "\n",
    "n = 5\n",
    "print(f'O fatorial de {n} é: {fatorial_iterativo(n)}')"
   ]
  },
  {
   "cell_type": "code",
   "execution_count": null,
   "metadata": {},
   "outputs": [],
   "source": [
    "# Solução 2:\n",
    "def fatorial_recursivo(n):\n",
    "    if n == 0 or n == 1:\n",
    "        return 1\n",
    "    return n * fatorial_recursivo(n -1)\n",
    "\n",
    "n = 6\n",
    "print(f'O fatorial de {n} é: {fatorial_recursivo(n)}')"
   ]
  },
  {
   "cell_type": "markdown",
   "metadata": {},
   "source": [
    "Ex4: Implementar uma solução em Python que determine se um número é primo ou não:"
   ]
  },
  {
   "cell_type": "code",
   "execution_count": null,
   "metadata": {},
   "outputs": [],
   "source": [
    "# Minha Solução:\n",
    "def ehPrimo(n):\n",
    "    divi = []\n",
    "    for i in range(1,n):\n",
    "        if n % i == 0:\n",
    "            divi.append(i)\n",
    "    if len(divi) == 1:\n",
    "        return 'Sim'\n",
    "    else:\n",
    "        return 'Não'\n",
    "    \n",
    "x = 37\n",
    "print(f'O número {x} é Primo? {ehPrimo(x)}')\n",
    "\n",
    "y = 24\n",
    "print(f'O número {y} é Primo? {ehPrimo(y)}')"
   ]
  },
  {
   "cell_type": "code",
   "execution_count": null,
   "metadata": {},
   "outputs": [],
   "source": [
    "# Solução Simplificada:\n",
    "def eh_primo(n):\n",
    "    if n < 2:\n",
    "        return 'Não'\n",
    "    i = n // 2\n",
    "    while i > 1:\n",
    "        if n % i == 0:\n",
    "            return 'Não'\n",
    "        i = i - 1\n",
    "    return 'Sim'\n",
    "\n",
    "print(f'O número {37} é Primo? {eh_primo(37)}')\n",
    "print(f'O número {24} é Primo? {eh_primo(24)}')"
   ]
  },
  {
   "cell_type": "markdown",
   "metadata": {},
   "source": [
    "### Função Recursiva: Função que chama a si mesma"
   ]
  },
  {
   "cell_type": "code",
   "execution_count": null,
   "metadata": {},
   "outputs": [],
   "source": [
    "# Sem condição de Parada:\n",
    "def regressiva(x):\n",
    "    print(x)\n",
    "    regressiva(x-1)\n",
    "\n",
    "regressiva(10)"
   ]
  },
  {
   "cell_type": "code",
   "execution_count": null,
   "metadata": {},
   "outputs": [],
   "source": [
    "# Condição de Parada Proposta:\n",
    "def regressiva(x):\n",
    "    if x <= 0:\n",
    "        print('Acabou')\n",
    "    else:\n",
    "        print(x)\n",
    "        regressiva(x-1)\n",
    "\n",
    "regressiva(10)"
   ]
  },
  {
   "cell_type": "code",
   "execution_count": null,
   "metadata": {},
   "outputs": [],
   "source": [
    "# Minha Condição de Parada:\n",
    "def regressiva(x):\n",
    "    while x > 0:\n",
    "        print(x)\n",
    "        regressiva(x-1)\n",
    "        break\n",
    "\n",
    "regressiva(10)"
   ]
  },
  {
   "cell_type": "code",
   "execution_count": null,
   "metadata": {},
   "outputs": [],
   "source": [
    "# Fatorial de Inteiro Positivo com Recursividade:\n",
    "def fatorial(n):\n",
    "    if n == 0 or n == 1:\n",
    "        return 1\n",
    "    else:\n",
    "        return n * fatorial(n - 1)\n",
    "\n",
    "print(fatorial(5))"
   ]
  },
  {
   "cell_type": "code",
   "execution_count": null,
   "metadata": {},
   "outputs": [],
   "source": [
    "# Fatorial de Inteiro Positivo sem Recursividade:\n",
    "def fatorial(n):\n",
    "    fat = 1\n",
    "    if n == 0 or n == 1:\n",
    "        return fat\n",
    "    else:\n",
    "        for x in range(2, n+1):\n",
    "            fat = fat * x\n",
    "        return fat\n",
    "\n",
    "print(fatorial(5))"
   ]
  },
  {
   "cell_type": "code",
   "execution_count": null,
   "metadata": {},
   "outputs": [],
   "source": [
    "# Sequência de Fibonacci com Recursividade:\n",
    "def fibo(n):\n",
    "    if n == 1 or n == 2:\n",
    "        return 1\n",
    "    else:\n",
    "        return fibo(n - 1) + fibo(n - 2)\n",
    "    \n",
    "print(fibo(8))\n",
    "print(help(fibo))"
   ]
  },
  {
   "cell_type": "markdown",
   "metadata": {},
   "source": [
    "### Docstring - String que Documenta a Função:"
   ]
  },
  {
   "cell_type": "code",
   "execution_count": null,
   "metadata": {},
   "outputs": [],
   "source": [
    "#Determine o n-ésimo termo da sequência de Fibonacci.\n",
    "def fibo(n):\n",
    "    if n == 1 or n == 2:\n",
    "        return 1\n",
    "    else:\n",
    "        return fibo(n - 1) + fibo(n - 2)\n",
    "    \n",
    "print(help(fibo))"
   ]
  },
  {
   "cell_type": "code",
   "execution_count": null,
   "metadata": {},
   "outputs": [],
   "source": [
    "def func1(x):\n",
    "    x = 10\n",
    "    print(x)\n",
    "\n",
    "x = 0\n",
    "print(x)\n",
    "func1(x)\n",
    "print(x)"
   ]
  },
  {
   "cell_type": "code",
   "execution_count": null,
   "metadata": {},
   "outputs": [],
   "source": [
    "def rec(n):\n",
    "    if n < 2:\n",
    "        return rec(n - 1)\n",
    "\n",
    "print(rec(1))"
   ]
  },
  {
   "cell_type": "markdown",
   "metadata": {},
   "source": [
    "## Modulo 3: Bibliotecas em Python"
   ]
  },
  {
   "cell_type": "markdown",
   "metadata": {},
   "source": [
    "#### Ex.1: Implementar uma solução em Python que calcule as raízes de uma Equação do Segundo Grau:\n",
    "#### Equação: x² + 5x + 6 = 0\n",
    "#### Raízes: -3, -2"
   ]
  },
  {
   "cell_type": "markdown",
   "metadata": {},
   "source": [
    "##### Solução 1:"
   ]
  },
  {
   "cell_type": "code",
   "execution_count": null,
   "metadata": {},
   "outputs": [],
   "source": [
    "def delt(a,b,c):\n",
    "    det = b**2 - (4*a*c)\n",
    "    return det\n",
    "\n",
    "print(delt(1,5,6))\n"
   ]
  },
  {
   "cell_type": "code",
   "execution_count": null,
   "metadata": {},
   "outputs": [],
   "source": [
    "def raizes(a,b,c):\n",
    "    d = delt(a,b,c)\n",
    "    x1 = (-b + d**(1/2)) / 2*a\n",
    "    x2 = (-b - d**(1/2)) / 2*a\n",
    "    return x1, x2\n",
    "r = raizes(1,5,6)\n",
    "print(f'x1 = {int(r[0])}\\nx2 = {int(r[1])}')"
   ]
  },
  {
   "cell_type": "markdown",
   "metadata": {},
   "source": [
    "##### Solução 2:"
   ]
  },
  {
   "cell_type": "code",
   "execution_count": null,
   "metadata": {},
   "outputs": [],
   "source": [
    "def calc_roots(a,b,c):\n",
    "    import numpy as np\n",
    "    delta = b**2 - (4*a*c)\n",
    "    if delta < 0:\n",
    "        return 'A equação não possui raízes reais.'\n",
    "    elif delta == 0:\n",
    "        x = -b / (2*a)\n",
    "        return f'A equação possui apenas {x} como raiz.'\n",
    "    else:\n",
    "        x1 = (-b - np.sqrt(delta))/(2*a)\n",
    "        x2 = (-b + np.sqrt(delta))/(2*a)\n",
    "        return f'A equação possui as raízes {int(x1)} e {int(x2)}.'\n",
    "    \n",
    "print(calc_roots(1,5,6))"
   ]
  },
  {
   "cell_type": "markdown",
   "metadata": {},
   "source": [
    "##### Solução do Professor:"
   ]
  },
  {
   "cell_type": "code",
   "execution_count": null,
   "metadata": {},
   "outputs": [],
   "source": [
    "def calc_delta(a,b,c):\n",
    "    delta = b*b-4*a*c\n",
    "    return delta"
   ]
  },
  {
   "cell_type": "code",
   "execution_count": null,
   "metadata": {},
   "outputs": [],
   "source": [
    "import numpy as np\n",
    "def calc_raizes(a,b,c,delta):\n",
    "    if delta < 0:\n",
    "        resultado = 'A equação não possui raízes nos números reais.'\n",
    "    elif delta == 0:\n",
    "        x = -b / (2*a)\n",
    "        resultado = f'A equação possui apenas a raiz: {x}'\n",
    "    else:\n",
    "        x1 = (-b - np.sqrt(delta))/(2*a)\n",
    "        x2 = (-b + np.sqrt(delta))/(2*a)\n",
    "        resultado = f'A equação possui as raízes: {int(x1)}, {int(x2)}.'\n",
    "    return resultado"
   ]
  },
  {
   "cell_type": "code",
   "execution_count": null,
   "metadata": {},
   "outputs": [],
   "source": [
    "a = 1\n",
    "b = 5\n",
    "c = 6\n",
    "delta = calc_delta(a,b,c)\n",
    "resultado = calc_raizes(a,b,c,delta)\n",
    "print(resultado)"
   ]
  },
  {
   "cell_type": "markdown",
   "metadata": {},
   "source": [
    "#### Exemplo 2: Implementar uma solução em Python para visualizar dados de vendas de produtos em um gráfico de barras:"
   ]
  },
  {
   "cell_type": "code",
   "execution_count": null,
   "metadata": {},
   "outputs": [],
   "source": [
    "# Dados:\n",
    "x = ['A','B','C','D']\n",
    "y = [3,8,1,10]"
   ]
  },
  {
   "cell_type": "markdown",
   "metadata": {},
   "source": [
    "##### Solução 1: Matplotlib"
   ]
  },
  {
   "cell_type": "code",
   "execution_count": null,
   "metadata": {},
   "outputs": [],
   "source": [
    "import matplotlib.pyplot as plt\n",
    "plt.style.use('_mpl-gallery')\n",
    "\n",
    "fig, ax = plt.subplots()\n",
    "ax.bar(x,y,width=1,edgecolor='white',linewidth=0.7)\n",
    "plt.show()"
   ]
  },
  {
   "cell_type": "markdown",
   "metadata": {},
   "source": [
    "##### Solução 2: Plotly"
   ]
  },
  {
   "cell_type": "code",
   "execution_count": null,
   "metadata": {},
   "outputs": [],
   "source": [
    "import plotly.graph_objects as go\n",
    "fig = go.Figure(data = [go.Bar(x=x,y=y)])\n",
    "fig.show()"
   ]
  },
  {
   "cell_type": "markdown",
   "metadata": {},
   "source": [
    "##### Solução 3: Dash"
   ]
  },
  {
   "cell_type": "code",
   "execution_count": null,
   "metadata": {},
   "outputs": [],
   "source": [
    "from dash import Dash, html, dcc\n",
    "import plotly.graph_objects as go\n",
    "\n",
    "app = Dash(__name__)\n",
    "fig = go.Figure(data=[go.Bar(x=x,y=y)])\n",
    "app.layout = html.Div(children = [\n",
    "    html.H1(children='Gráfico com Dash',style={'color':'white','text-align':'center'}),\n",
    "    html.Div(children='Gráfico',style={'color':'white'}),\n",
    "    dcc.Graph(id='grafico',figure=fig)\n",
    "])\n",
    "\n",
    "if __name__ == '__main__':\n",
    "    app.run(debug=True)"
   ]
  },
  {
   "cell_type": "markdown",
   "metadata": {},
   "source": [
    "##### Solução do Professor:"
   ]
  },
  {
   "cell_type": "code",
   "execution_count": null,
   "metadata": {},
   "outputs": [],
   "source": [
    "import matplotlib.pyplot as plt\n",
    "import numpy as np\n",
    "\n",
    "x = np.array(['A','B','C','D'])\n",
    "y = np.array([3,8,1,10])\n",
    "\n",
    "plt.bar(x,y)\n",
    "plt.show()"
   ]
  },
  {
   "cell_type": "markdown",
   "metadata": {},
   "source": [
    "#### Ex.: 3: Implementar uma solução em Python para gerar 1000 pontos seguindo a distribuiçã normal com média 20 e desvio-padrão 2. Exibir os dados como um histograma:"
   ]
  },
  {
   "cell_type": "markdown",
   "metadata": {},
   "source": [
    "##### Solução 1:"
   ]
  },
  {
   "cell_type": "code",
   "execution_count": null,
   "metadata": {},
   "outputs": [],
   "source": [
    "#Gerando os 1000 números aleatórios seguindo a distribuição nornal:\n",
    "import numpy as np\n",
    "np.random.seed(1)\n",
    "x = []\n",
    "for i in range(1000):\n",
    "    x.append(np.random.normal(loc=20,scale=2))\n",
    "    # np.random - função do numpy que gera um número aleatorio\n",
    "    # .normal - parametro da função que indica que o numero deverá seguir a distribuição normal\n",
    "    # loc=20.0 - atribuito que indica a média da distribuição normal\n",
    "    # scale=2.0 - atributo que indica o desvio-padrão da distribuição normal\n",
    "print(x)\n"
   ]
  },
  {
   "cell_type": "code",
   "execution_count": null,
   "metadata": {},
   "outputs": [],
   "source": [
    "# Teste para conferir a quantidade de valores gerados, a média e o desvio-padrão da distribuição normal:\n",
    "quant = len(x) # quantidade de valores gerados\n",
    "media = np.mean(x) # média da distribuição normal\n",
    "desvp = np.std(x) # desvio-padrão da distribuição normal\n",
    "print(quant,media,desvp) # teste"
   ]
  },
  {
   "cell_type": "code",
   "execution_count": null,
   "metadata": {},
   "outputs": [],
   "source": [
    "import matplotlib.pyplot as plt\n",
    "plt.hist(x) #geração do histograma com Matplotlib\n",
    "plt.show()"
   ]
  },
  {
   "cell_type": "code",
   "execution_count": null,
   "metadata": {},
   "outputs": [],
   "source": [
    "import plotly.graph_objects as go\n",
    "import numpy as np\n",
    "np.random.seed(1)\n",
    "data = np.random.normal(loc=20,scale=2,size=1000)\n",
    "# loc = média\n",
    "# scale = desvio padrão\n",
    "# size = quantidade de amostras\n",
    "fig = go.Figure([go.Histogram(x=data,nbinsx=12)])\n",
    "# x=data - atribuição dos dados\n",
    "# nbinsx = número de divisões na distribuição do histograma\n",
    "fig.show()"
   ]
  },
  {
   "cell_type": "markdown",
   "metadata": {},
   "source": [
    "##### Solução do Professor:"
   ]
  },
  {
   "cell_type": "code",
   "execution_count": null,
   "metadata": {},
   "outputs": [],
   "source": [
    "import matplotlib.pyplot as plt\n",
    "import numpy as np\n",
    "np.random.seed(1)\n",
    "dados = np.random.normal(loc=20,scale=2,size=1000)\n",
    "plt.hist(dados)\n",
    "plt.show()"
   ]
  },
  {
   "cell_type": "markdown",
   "metadata": {},
   "source": [
    "##### Criando uma janela com Tkinter:"
   ]
  },
  {
   "cell_type": "code",
   "execution_count": null,
   "metadata": {},
   "outputs": [],
   "source": [
    "# Janela Pura:\n",
    "from tkinter import *\n",
    "\n",
    "janelaPrincipal = Tk()\n",
    "janelaPrincipal.mainloop()"
   ]
  },
  {
   "cell_type": "code",
   "execution_count": null,
   "metadata": {},
   "outputs": [],
   "source": [
    "# Janela com Texto:\n",
    "\n",
    "from tkinter import *\n",
    "\n",
    "janelaPrincipal = Tk()\n",
    "texto = Label(master=janelaPrincipal, text='Minha janela exibida!')\n",
    "texto.place(x=40,y=90)\n",
    "janelaPrincipal.mainloop()"
   ]
  },
  {
   "cell_type": "code",
   "execution_count": null,
   "metadata": {},
   "outputs": [],
   "source": [
    "# Janela com texto, imagem e botão:\n",
    "from tkinter import *\n",
    "\n",
    "# Função do Botão:\n",
    "def funcClicar():\n",
    "    print('Botão pressionado!')\n",
    "\n",
    "# Cria a janela:\n",
    "janelaPrincipal = Tk()\n",
    "\n",
    "# Insere o Texto:\n",
    "texto = Label(master=janelaPrincipal, text='Minha janela exibida!')\n",
    "texto.pack()\n",
    "\n",
    "# Insere a Imagem:\n",
    "pic = PhotoImage(file=\"lobo.png\",width=300, height=300,)\n",
    "logo = Label(master=janelaPrincipal, image=pic)\n",
    "logo.pack()\n",
    "\n",
    "# Insere o Botão:\n",
    "botao = Button(master=janelaPrincipal, text='Clique', command=funcClicar)\n",
    "botao.pack()\n",
    "\n",
    "janelaPrincipal.mainloop()"
   ]
  },
  {
   "cell_type": "markdown",
   "metadata": {},
   "source": [
    "## Modulo 4: Eventos em Python"
   ]
  },
  {
   "cell_type": "markdown",
   "metadata": {},
   "source": [
    "### Tratamento de Exceções no Python"
   ]
  },
  {
   "cell_type": "markdown",
   "metadata": {},
   "source": [
    "##### Ex.1: Tratamento para verificar se a Entrada é um Número:"
   ]
  },
  {
   "cell_type": "code",
   "execution_count": 3,
   "metadata": {},
   "outputs": [
    {
     "name": "stdout",
     "output_type": "stream",
     "text": [
      "Entre com um número válido.\n"
     ]
    }
   ],
   "source": [
    "try:\n",
    "    x = int(input('Digite um número: '))\n",
    "except ValueError:\n",
    "    print('Entre com um número válido.')"
   ]
  },
  {
   "cell_type": "markdown",
   "metadata": {},
   "source": [
    "##### Ex.2: Tratar para verificar se é número e insistir até que um número seja digitado:"
   ]
  },
  {
   "cell_type": "markdown",
   "metadata": {},
   "source": [
    "Solução Pessoal:"
   ]
  },
  {
   "cell_type": "code",
   "execution_count": 2,
   "metadata": {},
   "outputs": [
    {
     "name": "stdout",
     "output_type": "stream",
     "text": [
      "Entre com um número válido.\n",
      "Entre com um número válido.\n",
      "Entre com um número válido.\n",
      "4\n"
     ]
    }
   ],
   "source": [
    "while True:\n",
    "    try:\n",
    "        x = int(input('Digite um número: '))\n",
    "        print(x)\n",
    "        break\n",
    "    except ValueError:\n",
    "        print('Entre com um número válido.')"
   ]
  },
  {
   "cell_type": "markdown",
   "metadata": {},
   "source": [
    "#### Ex.3: Tratamento de exceção de divisão por zero:"
   ]
  },
  {
   "cell_type": "markdown",
   "metadata": {},
   "source": [
    "##### Solução Pessoal:"
   ]
  },
  {
   "cell_type": "code",
   "execution_count": 3,
   "metadata": {},
   "outputs": [
    {
     "name": "stdout",
     "output_type": "stream",
     "text": [
      "Digite no segundo número um valor maior que 0\n"
     ]
    }
   ],
   "source": [
    "try:\n",
    "    x = int(input('Digite um número - 1: '))\n",
    "    y = int(input('Digite um número - 2: '))\n",
    "    z = x / y\n",
    "    print(z)\n",
    "except ZeroDivisionError:\n",
    "    print(\"Digite no segundo número um valor maior que 0\")"
   ]
  },
  {
   "cell_type": "markdown",
   "metadata": {},
   "source": [
    "##### Solução do Professor:"
   ]
  },
  {
   "cell_type": "code",
   "execution_count": 4,
   "metadata": {},
   "outputs": [
    {
     "name": "stdout",
     "output_type": "stream",
     "text": [
      "Divisão por zero\n",
      "A resposta é:  1.5\n"
     ]
    }
   ],
   "source": [
    "def dividir(x,y):\n",
    "    try:\n",
    "        resultado = x / y\n",
    "        print('A resposta é: ', resultado)\n",
    "    except ZeroDivisionError:\n",
    "        print('Divisão por zero')\n",
    "\n",
    "dividir(3,0)\n",
    "dividir(3,2)"
   ]
  }
 ],
 "metadata": {
  "kernelspec": {
   "display_name": "Python 3",
   "language": "python",
   "name": "python3"
  },
  "language_info": {
   "codemirror_mode": {
    "name": "ipython",
    "version": 3
   },
   "file_extension": ".py",
   "mimetype": "text/x-python",
   "name": "python",
   "nbconvert_exporter": "python",
   "pygments_lexer": "ipython3",
   "version": "3.11.7"
  },
  "orig_nbformat": 4
 },
 "nbformat": 4,
 "nbformat_minor": 2
}

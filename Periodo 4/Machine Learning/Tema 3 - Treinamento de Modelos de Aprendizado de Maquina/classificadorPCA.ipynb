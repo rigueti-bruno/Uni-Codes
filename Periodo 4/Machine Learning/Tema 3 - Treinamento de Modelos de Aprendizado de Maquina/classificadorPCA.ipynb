{
 "cells": [
  {
   "cell_type": "markdown",
   "id": "5c9e90f2",
   "metadata": {},
   "source": [
    "## Implementando um Classificador de Floresta Aleatória com PCA"
   ]
  },
  {
   "cell_type": "markdown",
   "id": "563fc1f1",
   "metadata": {},
   "source": [
    "1. Carregando as Blibliotecas necessárias:"
   ]
  },
  {
   "cell_type": "code",
   "execution_count": 1,
   "id": "aabeb808",
   "metadata": {},
   "outputs": [],
   "source": [
    "import numpy as np\n",
    "import pandas as pd"
   ]
  },
  {
   "cell_type": "markdown",
   "id": "a91a48be",
   "metadata": {},
   "source": [
    "2. Carregando os dados para o treinamento do modelo:"
   ]
  },
  {
   "cell_type": "code",
   "execution_count": 21,
   "id": "7eb2f061",
   "metadata": {},
   "outputs": [
    {
     "data": {
      "application/vnd.microsoft.datawrangler.viewer.v0+json": {
       "columns": [
        {
         "name": "index",
         "rawType": "int64",
         "type": "integer"
        },
        {
         "name": "sepal-length",
         "rawType": "float64",
         "type": "float"
        },
        {
         "name": "sepal-width",
         "rawType": "float64",
         "type": "float"
        },
        {
         "name": "petal-length",
         "rawType": "float64",
         "type": "float"
        },
        {
         "name": "petal-width",
         "rawType": "float64",
         "type": "float"
        },
        {
         "name": "Class",
         "rawType": "object",
         "type": "string"
        }
       ],
       "ref": "b1e84391-44e9-4676-a9a3-fc16784ef25c",
       "rows": [
        [
         "0",
         "5.1",
         "3.5",
         "1.4",
         "0.2",
         "Iris-setosa"
        ],
        [
         "1",
         "4.9",
         "3.0",
         "1.4",
         "0.2",
         "Iris-setosa"
        ],
        [
         "2",
         "4.7",
         "3.2",
         "1.3",
         "0.2",
         "Iris-setosa"
        ],
        [
         "3",
         "4.6",
         "3.1",
         "1.5",
         "0.2",
         "Iris-setosa"
        ],
        [
         "4",
         "5.0",
         "3.6",
         "1.4",
         "0.2",
         "Iris-setosa"
        ]
       ],
       "shape": {
        "columns": 5,
        "rows": 5
       }
      },
      "text/html": [
       "<div>\n",
       "<style scoped>\n",
       "    .dataframe tbody tr th:only-of-type {\n",
       "        vertical-align: middle;\n",
       "    }\n",
       "\n",
       "    .dataframe tbody tr th {\n",
       "        vertical-align: top;\n",
       "    }\n",
       "\n",
       "    .dataframe thead th {\n",
       "        text-align: right;\n",
       "    }\n",
       "</style>\n",
       "<table border=\"1\" class=\"dataframe\">\n",
       "  <thead>\n",
       "    <tr style=\"text-align: right;\">\n",
       "      <th></th>\n",
       "      <th>sepal-length</th>\n",
       "      <th>sepal-width</th>\n",
       "      <th>petal-length</th>\n",
       "      <th>petal-width</th>\n",
       "      <th>Class</th>\n",
       "    </tr>\n",
       "  </thead>\n",
       "  <tbody>\n",
       "    <tr>\n",
       "      <th>0</th>\n",
       "      <td>5.1</td>\n",
       "      <td>3.5</td>\n",
       "      <td>1.4</td>\n",
       "      <td>0.2</td>\n",
       "      <td>Iris-setosa</td>\n",
       "    </tr>\n",
       "    <tr>\n",
       "      <th>1</th>\n",
       "      <td>4.9</td>\n",
       "      <td>3.0</td>\n",
       "      <td>1.4</td>\n",
       "      <td>0.2</td>\n",
       "      <td>Iris-setosa</td>\n",
       "    </tr>\n",
       "    <tr>\n",
       "      <th>2</th>\n",
       "      <td>4.7</td>\n",
       "      <td>3.2</td>\n",
       "      <td>1.3</td>\n",
       "      <td>0.2</td>\n",
       "      <td>Iris-setosa</td>\n",
       "    </tr>\n",
       "    <tr>\n",
       "      <th>3</th>\n",
       "      <td>4.6</td>\n",
       "      <td>3.1</td>\n",
       "      <td>1.5</td>\n",
       "      <td>0.2</td>\n",
       "      <td>Iris-setosa</td>\n",
       "    </tr>\n",
       "    <tr>\n",
       "      <th>4</th>\n",
       "      <td>5.0</td>\n",
       "      <td>3.6</td>\n",
       "      <td>1.4</td>\n",
       "      <td>0.2</td>\n",
       "      <td>Iris-setosa</td>\n",
       "    </tr>\n",
       "  </tbody>\n",
       "</table>\n",
       "</div>"
      ],
      "text/plain": [
       "   sepal-length  sepal-width  petal-length  petal-width        Class\n",
       "0           5.1          3.5           1.4          0.2  Iris-setosa\n",
       "1           4.9          3.0           1.4          0.2  Iris-setosa\n",
       "2           4.7          3.2           1.3          0.2  Iris-setosa\n",
       "3           4.6          3.1           1.5          0.2  Iris-setosa\n",
       "4           5.0          3.6           1.4          0.2  Iris-setosa"
      ]
     },
     "execution_count": 21,
     "metadata": {},
     "output_type": "execute_result"
    }
   ],
   "source": [
    "arquivo = 'iris.data'\n",
    "names = ['sepal-length', 'sepal-width', 'petal-length', 'petal-width', 'Class']\n",
    "dataset = pd.read_csv(arquivo,names=names)\n",
    "dataset.head()"
   ]
  },
  {
   "cell_type": "markdown",
   "id": "5789739f",
   "metadata": {},
   "source": [
    "3. Separando os dados de Treinamento e Teste para o Modelo:"
   ]
  },
  {
   "cell_type": "code",
   "execution_count": 24,
   "id": "c6e0483a",
   "metadata": {},
   "outputs": [],
   "source": [
    "from sklearn.model_selection import train_test_split\n",
    "X = dataset.drop('Class',axis=1) # variaveis independentes\n",
    "y = dataset['Class'] # variavel dependente\n",
    "X_train, X_test, y_train, y_test = train_test_split(X, y, test_size=0.2, random_state=0)"
   ]
  },
  {
   "cell_type": "markdown",
   "id": "2e0baeba",
   "metadata": {},
   "source": [
    "4. Colocando todas as Variáveis na mesma Escala para o Treinamento do Modelo:"
   ]
  },
  {
   "cell_type": "code",
   "execution_count": 26,
   "id": "cc7fd52e",
   "metadata": {},
   "outputs": [],
   "source": [
    "from sklearn.preprocessing import StandardScaler\n",
    "sc = StandardScaler()\n",
    "X_train = sc.fit_transform(X_train)\n",
    "X_test = sc.transform(X_test)"
   ]
  },
  {
   "cell_type": "markdown",
   "id": "697ae1be",
   "metadata": {},
   "source": [
    "5. Aplicando o PCA para o Treinamento de um Modelo de Floresta Aleatória:"
   ]
  },
  {
   "cell_type": "code",
   "execution_count": null,
   "id": "d4c4d6ba",
   "metadata": {},
   "outputs": [
    {
     "name": "stdout",
     "output_type": "stream",
     "text": [
      "---------------------------------------------------------------\n",
      "PCA:  1\n",
      "[[11  0  0]\n",
      " [ 0 12  1]\n",
      " [ 0  1  5]]\n",
      "Accuracy: 0.9333333333333333\n",
      "Dataset Var:  2.889061120891458\n",
      "Component( 1 ): 0.0\n",
      "---------------------------------------------------------------\n",
      "---------------------------------------------------------------\n",
      "PCA:  2\n",
      "[[11  0  0]\n",
      " [ 0  9  4]\n",
      " [ 0  2  4]]\n",
      "Accuracy: 0.8\n",
      "Dataset Var:  1.9240264601094712\n",
      "Component( 1 ): 0.20903336418815938\n",
      "Component( 2 ): 0.05109115502394763\n",
      "---------------------------------------------------------------\n",
      "---------------------------------------------------------------\n",
      "PCA:  3\n",
      "[[11  0  0]\n",
      " [ 0  8  5]\n",
      " [ 0  1  5]]\n",
      "Accuracy: 0.8\n",
      "Dataset Var:  1.3271925349023714\n",
      "Component( 1 ): 0.3595457335003856\n",
      "Component( 2 ): 0.1096766372423076\n",
      "Component( 3 ): 1.5185710212033146\n",
      "---------------------------------------------------------------\n",
      "---------------------------------------------------------------\n",
      "PCA:  4\n",
      "[[11  0  0]\n",
      " [ 0 11  2]\n",
      " [ 0  1  5]]\n",
      "Accuracy: 0.9\n",
      "Dataset Var:  1.0000000000000009\n",
      "Component( 1 ): 0.28278585335687567\n",
      "Component( 2 ): 0.13248378929197213\n",
      "Component( 3 ): 1.1785223120455175\n",
      "Component( 4 ): 0.22368712813177372\n",
      "---------------------------------------------------------------\n"
     ]
    }
   ],
   "source": [
    "from sklearn.decomposition import PCA\n",
    "\n",
    "from sklearn.metrics import confusion_matrix\n",
    "from sklearn.metrics import accuracy_score\n",
    "from sklearn.ensemble import RandomForestClassifier\n",
    "\n",
    "for i in range(X_train.shape[1]):\n",
    "    pca = PCA(n_components=i+1)\n",
    "    pca_X_train = pca.fit_transform(X_train)\n",
    "    pca_X_test = pca.transform(X_test)\n",
    "\n",
    "    classifier = RandomForestClassifier(max_depth=2, random_state=0)\n",
    "    classifier.fit(pca_X_train, y_train)\n",
    "\n",
    "    # Predicting the Test set results\n",
    "    y_pred = classifier.predict(pca_X_test) # faz uma predição com os dados de teste a partir do modelo treinado\n",
    "    cm = confusion_matrix(y_test, y_pred) # gera uma matriz de confusão para comparar os valores reais com os previstos\n",
    "    print (\"---------------------------------------------------------------\")\n",
    "    print(\"PCA: \", i+1)\n",
    "    print(cm)\n",
    "    print('Accuracy:', accuracy_score(y_test, y_pred)) # mede a acurácia do modelo comparando os valores reais com os previstos\n",
    "    print('Dataset Var: ', pca_X_train.var())\n",
    "    for c in range(pca_X_train.shape[1]):\n",
    "        print(\"Component(\",c+1,\"):\", pca_X_train[c].var())\n",
    "    print(\"---------------------------------------------------------------\")"
   ]
  }
 ],
 "metadata": {
  "kernelspec": {
   "display_name": "Python 3",
   "language": "python",
   "name": "python3"
  },
  "language_info": {
   "codemirror_mode": {
    "name": "ipython",
    "version": 3
   },
   "file_extension": ".py",
   "mimetype": "text/x-python",
   "name": "python",
   "nbconvert_exporter": "python",
   "pygments_lexer": "ipython3",
   "version": "3.12.10"
  }
 },
 "nbformat": 4,
 "nbformat_minor": 5
}

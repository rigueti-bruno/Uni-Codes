{
 "cells": [
  {
   "cell_type": "markdown",
   "metadata": {},
   "source": [
    "## TEMA 3: MANIPULANDO BANCOS DE DADOS COM PYTHON"
   ]
  },
  {
   "cell_type": "code",
   "execution_count": 3,
   "metadata": {},
   "outputs": [],
   "source": [
    "import sqlite3 # Carrega o Conector SQLITE3"
   ]
  },
  {
   "cell_type": "markdown",
   "metadata": {},
   "source": [
    "### CRIANDO UMA TABELA COM O CONECTOR SQLITE3"
   ]
  },
  {
   "cell_type": "code",
   "execution_count": 4,
   "metadata": {},
   "outputs": [
    {
     "data": {
      "text/plain": [
       "<sqlite3.Cursor at 0x13548eca540>"
      ]
     },
     "execution_count": 4,
     "metadata": {},
     "output_type": "execute_result"
    }
   ],
   "source": [
    "# Abrir uma conexão com o banco de dados:\n",
    "conn = sqlite3.connect('exemplo.db')\n",
    "\n",
    "# Criar um cursor para executar comandos SQL:\n",
    "cursor = conn.cursor()\n",
    "\n",
    "# Criar uma tabela:\n",
    "cursor.execute('''\n",
    "               CREATE TABLE IF NOT EXISTS usuarios (\n",
    "                   id INTEGER PRIMARY KEY,\n",
    "                   nome TEXT,\n",
    "                   idade INTEGER\n",
    "                )\n",
    "                ''')"
   ]
  },
  {
   "cell_type": "markdown",
   "metadata": {},
   "source": [
    "### INSERINDO DADOS NA TABELA CRIADA"
   ]
  },
  {
   "cell_type": "code",
   "execution_count": 5,
   "metadata": {},
   "outputs": [],
   "source": [
    "cursor.execute(\"INSERT INTO usuarios(nome,idade) VALUES(?,?)\",('Alice',30)) # recebe os dados e os insere no banco de dados\n",
    "cursor.execute(\"INSERT INTO usuarios(nome,idade) VALUES(?,?)\",('Bob',25))\n",
    "conn.commit() # faz o commit dos dados para que eles se tornem persistentes no banco de dados"
   ]
  },
  {
   "cell_type": "markdown",
   "metadata": {},
   "source": [
    "### REALIZAR UMA CONSULTA AO BANCO DE DADOS"
   ]
  },
  {
   "cell_type": "code",
   "execution_count": 10,
   "metadata": {},
   "outputs": [
    {
     "name": "stdout",
     "output_type": "stream",
     "text": [
      "Registros na Tabela:\n",
      "(1, 'Alice', 30)\n",
      "(2, 'Bob', 25)\n",
      "(4, 'Paula', 25)\n"
     ]
    }
   ],
   "source": [
    "cursor.execute(\"SELECT * FROM usuarios\")\n",
    "print(\"Registros na Tabela:\")\n",
    "for registro in cursor.fetchall():\n",
    "    print(registro)"
   ]
  },
  {
   "cell_type": "markdown",
   "metadata": {},
   "source": [
    "### ATUALIZAR REGISTROS NO BANCO DE DADOS"
   ]
  },
  {
   "cell_type": "code",
   "execution_count": 7,
   "metadata": {},
   "outputs": [],
   "source": [
    "cursor.execute(\"UPDATE usuarios SET nome = ? WHERE id = ?\", ('Carlos',3))\n",
    "cursor.execute(\"UPDATE usuarios SET nome = ? WHERE id = ?\", ('Paula',4))\n",
    "conn.commit()"
   ]
  },
  {
   "cell_type": "markdown",
   "metadata": {},
   "source": [
    "### EXCLUINDO REGISTROS"
   ]
  },
  {
   "cell_type": "code",
   "execution_count": 9,
   "metadata": {},
   "outputs": [],
   "source": [
    "cursor.execute(\"DELETE FROM usuarios WHERE id = ?\",(3,))\n",
    "conn.commit()"
   ]
  },
  {
   "cell_type": "markdown",
   "metadata": {},
   "source": [
    "### FECHANDO O CURSOR E A CONEXÃO COM O BANCO DE DADOS"
   ]
  },
  {
   "cell_type": "code",
   "execution_count": 11,
   "metadata": {},
   "outputs": [],
   "source": [
    "cursor.close() # fecha o cursor\n",
    "conn.close() # fecha a conexão com o banco de dados"
   ]
  }
 ],
 "metadata": {
  "kernelspec": {
   "display_name": "Python 3",
   "language": "python",
   "name": "python3"
  },
  "language_info": {
   "codemirror_mode": {
    "name": "ipython",
    "version": 3
   },
   "file_extension": ".py",
   "mimetype": "text/x-python",
   "name": "python",
   "nbconvert_exporter": "python",
   "pygments_lexer": "ipython3",
   "version": "3.12.2"
  }
 },
 "nbformat": 4,
 "nbformat_minor": 2
}
